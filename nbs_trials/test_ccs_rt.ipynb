{
 "cells": [
  {
   "cell_type": "code",
   "execution_count": null,
   "metadata": {},
   "outputs": [],
   "source": [
    "%reload_ext autoreload\n",
    "%autoreload 2"
   ]
  },
  {
   "cell_type": "code",
   "execution_count": null,
   "metadata": {},
   "outputs": [
    {
     "name": "stdout",
     "output_type": "stream",
     "text": [
      "Requirement already satisfied: wget in /Users/zengwenfeng/opt/anaconda3/lib/python3.8/site-packages (3.2)\n",
      "\u001b[33mWARNING: There was an error checking the latest version of pip.\u001b[0m\u001b[33m\n",
      "\u001b[0mNote: you may need to restart the kernel to use updated packages.\n"
     ]
    }
   ],
   "source": [
    "%pip install wget"
   ]
  },
  {
   "cell_type": "markdown",
   "metadata": {},
   "source": [
    "# 1. Load peptdeep models"
   ]
  },
  {
   "cell_type": "code",
   "execution_count": null,
   "metadata": {},
   "outputs": [
    {
     "name": "stdout",
     "output_type": "stream",
     "text": [
      "2022-08-05 16:20:05> NumExpr defaulting to 8 threads.\n"
     ]
    }
   ],
   "source": [
    "import os\n",
    "import wget\n",
    "if not os.path.exists('sandbox/test_files'):\n",
    "    os.makedirs('sandbox/test_files')\n",
    "def download_data(url, file_path):\n",
    "    if not os.path.exists(file_path):\n",
    "        wget.download(url, file_path)\n",
    "\n",
    "from peptdeep.utils import (\n",
    "    evaluate_linear_regression, evaluate_linear_regression_plot\n",
    ")\n",
    "\n",
    "from peptdeep.pretrained_models import ModelManager\n",
    "\n",
    "models = ModelManager()\n",
    "models.load_installed_models()"
   ]
  },
  {
   "cell_type": "code",
   "execution_count": null,
   "metadata": {},
   "outputs": [
    {
     "data": {
      "text/plain": [
       "3988974"
      ]
     },
     "execution_count": null,
     "metadata": {},
     "output_type": "execute_result"
    }
   ],
   "source": [
    "ms2_model = models.ms2_model\n",
    "ms2_model.get_parameter_num()"
   ]
  },
  {
   "cell_type": "code",
   "execution_count": null,
   "metadata": {},
   "outputs": [
    {
     "data": {
      "text/plain": [
       "708224"
      ]
     },
     "execution_count": null,
     "metadata": {},
     "output_type": "execute_result"
    }
   ],
   "source": [
    "rt_model = models.rt_model\n",
    "rt_model.get_parameter_num()"
   ]
  },
  {
   "cell_type": "code",
   "execution_count": null,
   "metadata": {},
   "outputs": [
    {
     "data": {
      "text/plain": [
       "713452"
      ]
     },
     "execution_count": null,
     "metadata": {},
     "output_type": "execute_result"
    }
   ],
   "source": [
    "ccs_model = models.ccs_model\n",
    "ccs_model.get_parameter_num()"
   ]
  },
  {
   "cell_type": "markdown",
   "metadata": {},
   "source": [
    "# 2. Test ccs_model"
   ]
  },
  {
   "cell_type": "code",
   "execution_count": null,
   "metadata": {},
   "outputs": [
    {
     "name": "stderr",
     "output_type": "stream",
     "text": [
      "/Users/zengwenfeng/Workspace/AlphaBase/alphabase/io/psm_reader/psm_reader.py:213: DtypeWarning: Columns (61) have mixed types.Specify dtype option on import or set low_memory=False.\n",
      "  origin_df = self._load_file(_file)\n"
     ]
    },
    {
     "data": {
      "text/html": [
       "<div>\n",
       "<style scoped>\n",
       "    .dataframe tbody tr th:only-of-type {\n",
       "        vertical-align: middle;\n",
       "    }\n",
       "\n",
       "    .dataframe tbody tr th {\n",
       "        vertical-align: top;\n",
       "    }\n",
       "\n",
       "    .dataframe thead th {\n",
       "        text-align: right;\n",
       "    }\n",
       "</style>\n",
       "<table border=\"1\" class=\"dataframe\">\n",
       "  <thead>\n",
       "    <tr style=\"text-align: right;\">\n",
       "      <th></th>\n",
       "      <th>sequence</th>\n",
       "      <th>charge</th>\n",
       "      <th>rt</th>\n",
       "      <th>ccs</th>\n",
       "      <th>mobility</th>\n",
       "      <th>scan_num</th>\n",
       "      <th>raw_name</th>\n",
       "      <th>precursor_mz</th>\n",
       "      <th>score</th>\n",
       "      <th>proteins</th>\n",
       "      <th>genes</th>\n",
       "      <th>decoy</th>\n",
       "      <th>spec_idx</th>\n",
       "      <th>mods</th>\n",
       "      <th>mod_sites</th>\n",
       "      <th>nAA</th>\n",
       "      <th>rt_norm</th>\n",
       "    </tr>\n",
       "  </thead>\n",
       "  <tbody>\n",
       "    <tr>\n",
       "      <th>0</th>\n",
       "      <td>LLEDIRK</td>\n",
       "      <td>2</td>\n",
       "      <td>17.960</td>\n",
       "      <td>313.983480</td>\n",
       "      <td>0.771909</td>\n",
       "      <td>3856</td>\n",
       "      <td>20190107_TIMS2_AnBr_SA_200ng_CElegans_Trp_IRT_...</td>\n",
       "      <td>443.771460</td>\n",
       "      <td>51.456</td>\n",
       "      <td>Q9BKU3</td>\n",
       "      <td></td>\n",
       "      <td>0</td>\n",
       "      <td>3855</td>\n",
       "      <td></td>\n",
       "      <td></td>\n",
       "      <td>7</td>\n",
       "      <td>0.149942</td>\n",
       "    </tr>\n",
       "    <tr>\n",
       "      <th>1</th>\n",
       "      <td>HLQLAVR</td>\n",
       "      <td>2</td>\n",
       "      <td>17.642</td>\n",
       "      <td>302.866472</td>\n",
       "      <td>0.743901</td>\n",
       "      <td>3300</td>\n",
       "      <td>20190107_TIMS2_AnBr_SA_200ng_CElegans_Trp_IRT_...</td>\n",
       "      <td>418.758687</td>\n",
       "      <td>88.201</td>\n",
       "      <td>Q27485;J7S164;J7SA65;P09588</td>\n",
       "      <td>his-35;his-57;his-3</td>\n",
       "      <td>0</td>\n",
       "      <td>3299</td>\n",
       "      <td></td>\n",
       "      <td></td>\n",
       "      <td>7</td>\n",
       "      <td>0.155532</td>\n",
       "    </tr>\n",
       "    <tr>\n",
       "      <th>2</th>\n",
       "      <td>HLQLAVR</td>\n",
       "      <td>2</td>\n",
       "      <td>18.518</td>\n",
       "      <td>304.133904</td>\n",
       "      <td>0.747014</td>\n",
       "      <td>3646</td>\n",
       "      <td>20190107_TIMS2_AnBr_SA_200ng_CElegans_Trp_IRT_...</td>\n",
       "      <td>418.758687</td>\n",
       "      <td>79.833</td>\n",
       "      <td>Q27485;J7S164;J7SA65;P09588</td>\n",
       "      <td>his-35;his-57;his-3</td>\n",
       "      <td>0</td>\n",
       "      <td>3645</td>\n",
       "      <td></td>\n",
       "      <td></td>\n",
       "      <td>7</td>\n",
       "      <td>0.154342</td>\n",
       "    </tr>\n",
       "    <tr>\n",
       "      <th>3</th>\n",
       "      <td>HLQLAVR</td>\n",
       "      <td>1</td>\n",
       "      <td>18.518</td>\n",
       "      <td>276.501981</td>\n",
       "      <td>1.358263</td>\n",
       "      <td>3647</td>\n",
       "      <td>20190107_TIMS2_AnBr_SA_200ng_CElegans_Trp_IRT_...</td>\n",
       "      <td>836.510097</td>\n",
       "      <td>64.547</td>\n",
       "      <td>Q27485;J7S164;J7SA65;P09588</td>\n",
       "      <td>his-35;his-57;his-3</td>\n",
       "      <td>0</td>\n",
       "      <td>3646</td>\n",
       "      <td></td>\n",
       "      <td></td>\n",
       "      <td>7</td>\n",
       "      <td>0.154342</td>\n",
       "    </tr>\n",
       "    <tr>\n",
       "      <th>4</th>\n",
       "      <td>HLQLAVR</td>\n",
       "      <td>1</td>\n",
       "      <td>17.579</td>\n",
       "      <td>274.632075</td>\n",
       "      <td>1.349078</td>\n",
       "      <td>2898</td>\n",
       "      <td>20190107_TIMS2_AnBr_SA_200ng_CElegans_Trp_IRT_...</td>\n",
       "      <td>836.510097</td>\n",
       "      <td>84.064</td>\n",
       "      <td>Q27485;J7S164;J7SA65;P09588</td>\n",
       "      <td>his-35;his-57;his-3</td>\n",
       "      <td>0</td>\n",
       "      <td>2897</td>\n",
       "      <td></td>\n",
       "      <td></td>\n",
       "      <td>7</td>\n",
       "      <td>0.147191</td>\n",
       "    </tr>\n",
       "    <tr>\n",
       "      <th>...</th>\n",
       "      <td>...</td>\n",
       "      <td>...</td>\n",
       "      <td>...</td>\n",
       "      <td>...</td>\n",
       "      <td>...</td>\n",
       "      <td>...</td>\n",
       "      <td>...</td>\n",
       "      <td>...</td>\n",
       "      <td>...</td>\n",
       "      <td>...</td>\n",
       "      <td>...</td>\n",
       "      <td>...</td>\n",
       "      <td>...</td>\n",
       "      <td>...</td>\n",
       "      <td>...</td>\n",
       "      <td>...</td>\n",
       "      <td>...</td>\n",
       "    </tr>\n",
       "    <tr>\n",
       "      <th>141500</th>\n",
       "      <td>TAPSAIPLAAPALPVPVAAAPFFASPAPVLAAPAPLLAPPAPVFAAPR</td>\n",
       "      <td>3</td>\n",
       "      <td>107.880</td>\n",
       "      <td>774.159191</td>\n",
       "      <td>1.284714</td>\n",
       "      <td>53805</td>\n",
       "      <td>20190107_TIMS2_AnBr_SA_200ng_CElegans_Trp_IRT_...</td>\n",
       "      <td>1511.532720</td>\n",
       "      <td>40.394</td>\n",
       "      <td>Q22263</td>\n",
       "      <td></td>\n",
       "      <td>0</td>\n",
       "      <td>53804</td>\n",
       "      <td></td>\n",
       "      <td></td>\n",
       "      <td>48</td>\n",
       "      <td>0.926486</td>\n",
       "    </tr>\n",
       "    <tr>\n",
       "      <th>141501</th>\n",
       "      <td>TAPSAIPLAAPALPVPIAAAPFFTPPAPVLAAPAPLLAPPAPVFAAPR</td>\n",
       "      <td>4</td>\n",
       "      <td>108.520</td>\n",
       "      <td>1086.345571</td>\n",
       "      <td>1.352140</td>\n",
       "      <td>51480</td>\n",
       "      <td>20190107_TIMS2_AnBr_SA_200ng_CElegans_Trp_IRT_...</td>\n",
       "      <td>1147.413090</td>\n",
       "      <td>4.313</td>\n",
       "      <td>Q22262</td>\n",
       "      <td></td>\n",
       "      <td>0</td>\n",
       "      <td>51479</td>\n",
       "      <td></td>\n",
       "      <td></td>\n",
       "      <td>48</td>\n",
       "      <td>0.958742</td>\n",
       "    </tr>\n",
       "    <tr>\n",
       "      <th>141502</th>\n",
       "      <td>TAPSAIPLAAPALPVPIAAAPFFTPPAPVLAAPAPLLAPPAPVFAAPR</td>\n",
       "      <td>3</td>\n",
       "      <td>108.580</td>\n",
       "      <td>781.523487</td>\n",
       "      <td>1.296982</td>\n",
       "      <td>32092</td>\n",
       "      <td>20190107_TIMS2_AnBr_SA_200ng_CElegans_Trp_IRT_...</td>\n",
       "      <td>1529.548370</td>\n",
       "      <td>58.044</td>\n",
       "      <td>Q22262</td>\n",
       "      <td></td>\n",
       "      <td>0</td>\n",
       "      <td>32091</td>\n",
       "      <td></td>\n",
       "      <td></td>\n",
       "      <td>48</td>\n",
       "      <td>0.916983</td>\n",
       "    </tr>\n",
       "    <tr>\n",
       "      <th>141503</th>\n",
       "      <td>TAPSAIPLAAPALPVPIAAAPFFTPPAPVLAAPAPLLAPPAPVFAAPR</td>\n",
       "      <td>3</td>\n",
       "      <td>108.460</td>\n",
       "      <td>775.979047</td>\n",
       "      <td>1.287781</td>\n",
       "      <td>53839</td>\n",
       "      <td>20190107_TIMS2_AnBr_SA_200ng_CElegans_Trp_IRT_...</td>\n",
       "      <td>1529.548370</td>\n",
       "      <td>115.420</td>\n",
       "      <td>Q22262</td>\n",
       "      <td></td>\n",
       "      <td>0</td>\n",
       "      <td>53838</td>\n",
       "      <td></td>\n",
       "      <td></td>\n",
       "      <td>48</td>\n",
       "      <td>0.931467</td>\n",
       "    </tr>\n",
       "    <tr>\n",
       "      <th>141504</th>\n",
       "      <td>TAPSAIPLAAPALPVPIAAAPFFTPPAPVLAAPAPLLAPPAPVFAAPR</td>\n",
       "      <td>4</td>\n",
       "      <td>108.460</td>\n",
       "      <td>1066.658020</td>\n",
       "      <td>1.327636</td>\n",
       "      <td>53838</td>\n",
       "      <td>20190107_TIMS2_AnBr_SA_200ng_CElegans_Trp_IRT_...</td>\n",
       "      <td>1147.413090</td>\n",
       "      <td>84.529</td>\n",
       "      <td>Q22262</td>\n",
       "      <td></td>\n",
       "      <td>0</td>\n",
       "      <td>53837</td>\n",
       "      <td></td>\n",
       "      <td></td>\n",
       "      <td>48</td>\n",
       "      <td>0.931467</td>\n",
       "    </tr>\n",
       "  </tbody>\n",
       "</table>\n",
       "<p>141505 rows × 17 columns</p>\n",
       "</div>"
      ],
      "text/plain": [
       "                                                sequence  charge       rt  \\\n",
       "0                                                LLEDIRK       2   17.960   \n",
       "1                                                HLQLAVR       2   17.642   \n",
       "2                                                HLQLAVR       2   18.518   \n",
       "3                                                HLQLAVR       1   18.518   \n",
       "4                                                HLQLAVR       1   17.579   \n",
       "...                                                  ...     ...      ...   \n",
       "141500  TAPSAIPLAAPALPVPVAAAPFFASPAPVLAAPAPLLAPPAPVFAAPR       3  107.880   \n",
       "141501  TAPSAIPLAAPALPVPIAAAPFFTPPAPVLAAPAPLLAPPAPVFAAPR       4  108.520   \n",
       "141502  TAPSAIPLAAPALPVPIAAAPFFTPPAPVLAAPAPLLAPPAPVFAAPR       3  108.580   \n",
       "141503  TAPSAIPLAAPALPVPIAAAPFFTPPAPVLAAPAPLLAPPAPVFAAPR       3  108.460   \n",
       "141504  TAPSAIPLAAPALPVPIAAAPFFTPPAPVLAAPAPLLAPPAPVFAAPR       4  108.460   \n",
       "\n",
       "                ccs  mobility  scan_num  \\\n",
       "0        313.983480  0.771909      3856   \n",
       "1        302.866472  0.743901      3300   \n",
       "2        304.133904  0.747014      3646   \n",
       "3        276.501981  1.358263      3647   \n",
       "4        274.632075  1.349078      2898   \n",
       "...             ...       ...       ...   \n",
       "141500   774.159191  1.284714     53805   \n",
       "141501  1086.345571  1.352140     51480   \n",
       "141502   781.523487  1.296982     32092   \n",
       "141503   775.979047  1.287781     53839   \n",
       "141504  1066.658020  1.327636     53838   \n",
       "\n",
       "                                                 raw_name  precursor_mz  \\\n",
       "0       20190107_TIMS2_AnBr_SA_200ng_CElegans_Trp_IRT_...    443.771460   \n",
       "1       20190107_TIMS2_AnBr_SA_200ng_CElegans_Trp_IRT_...    418.758687   \n",
       "2       20190107_TIMS2_AnBr_SA_200ng_CElegans_Trp_IRT_...    418.758687   \n",
       "3       20190107_TIMS2_AnBr_SA_200ng_CElegans_Trp_IRT_...    836.510097   \n",
       "4       20190107_TIMS2_AnBr_SA_200ng_CElegans_Trp_IRT_...    836.510097   \n",
       "...                                                   ...           ...   \n",
       "141500  20190107_TIMS2_AnBr_SA_200ng_CElegans_Trp_IRT_...   1511.532720   \n",
       "141501  20190107_TIMS2_AnBr_SA_200ng_CElegans_Trp_IRT_...   1147.413090   \n",
       "141502  20190107_TIMS2_AnBr_SA_200ng_CElegans_Trp_IRT_...   1529.548370   \n",
       "141503  20190107_TIMS2_AnBr_SA_200ng_CElegans_Trp_IRT_...   1529.548370   \n",
       "141504  20190107_TIMS2_AnBr_SA_200ng_CElegans_Trp_IRT_...   1147.413090   \n",
       "\n",
       "          score                     proteins                genes  decoy  \\\n",
       "0        51.456                       Q9BKU3                           0   \n",
       "1        88.201  Q27485;J7S164;J7SA65;P09588  his-35;his-57;his-3      0   \n",
       "2        79.833  Q27485;J7S164;J7SA65;P09588  his-35;his-57;his-3      0   \n",
       "3        64.547  Q27485;J7S164;J7SA65;P09588  his-35;his-57;his-3      0   \n",
       "4        84.064  Q27485;J7S164;J7SA65;P09588  his-35;his-57;his-3      0   \n",
       "...         ...                          ...                  ...    ...   \n",
       "141500   40.394                       Q22263                           0   \n",
       "141501    4.313                       Q22262                           0   \n",
       "141502   58.044                       Q22262                           0   \n",
       "141503  115.420                       Q22262                           0   \n",
       "141504   84.529                       Q22262                           0   \n",
       "\n",
       "        spec_idx mods mod_sites  nAA   rt_norm  \n",
       "0           3855                   7  0.149942  \n",
       "1           3299                   7  0.155532  \n",
       "2           3645                   7  0.154342  \n",
       "3           3646                   7  0.154342  \n",
       "4           2897                   7  0.147191  \n",
       "...          ...  ...       ...  ...       ...  \n",
       "141500     53804                  48  0.926486  \n",
       "141501     51479                  48  0.958742  \n",
       "141502     32091                  48  0.916983  \n",
       "141503     53838                  48  0.931467  \n",
       "141504     53837                  48  0.931467  \n",
       "\n",
       "[141505 rows x 17 columns]"
      ]
     },
     "execution_count": null,
     "metadata": {},
     "output_type": "execute_result"
    }
   ],
   "source": [
    "from alphabase.psm_reader import psm_reader_provider\n",
    "ccs_url = 'https://datashare.biochem.mpg.de/s/uTGa7PliZzRJU4g/download'\n",
    "ccs = 'sandbox/test_files/PXD019086_Celegant_evidence.txt'\n",
    "download_data(ccs_url, ccs)\n",
    "mq_reader = psm_reader_provider.get_reader('maxquant')\n",
    "mq_reader.load(ccs)"
   ]
  },
  {
   "cell_type": "markdown",
   "metadata": {},
   "source": [
    "## CCS prediction is very good"
   ]
  },
  {
   "cell_type": "code",
   "execution_count": null,
   "metadata": {},
   "outputs": [
    {
     "name": "stderr",
     "output_type": "stream",
     "text": [
      "/Users/zengwenfeng/opt/anaconda3/lib/python3.8/site-packages/statsmodels/tsa/tsatools.py:130: FutureWarning: In a future version of pandas all arguments of concat except for the argument 'objs' will be keyword-only\n",
      "  x = pd.concat(x[::order], 1)\n"
     ]
    },
    {
     "data": {
      "text/html": [
       "<div>\n",
       "<style scoped>\n",
       "    .dataframe tbody tr th:only-of-type {\n",
       "        vertical-align: middle;\n",
       "    }\n",
       "\n",
       "    .dataframe tbody tr th {\n",
       "        vertical-align: top;\n",
       "    }\n",
       "\n",
       "    .dataframe thead th {\n",
       "        text-align: right;\n",
       "    }\n",
       "</style>\n",
       "<table border=\"1\" class=\"dataframe\">\n",
       "  <thead>\n",
       "    <tr style=\"text-align: right;\">\n",
       "      <th></th>\n",
       "      <th>R_square</th>\n",
       "      <th>R</th>\n",
       "      <th>slope</th>\n",
       "      <th>intercept</th>\n",
       "      <th>test_num</th>\n",
       "    </tr>\n",
       "  </thead>\n",
       "  <tbody>\n",
       "    <tr>\n",
       "      <th>0</th>\n",
       "      <td>0.97</td>\n",
       "      <td>0.984886</td>\n",
       "      <td>0.959</td>\n",
       "      <td>-4.8818</td>\n",
       "      <td>141505.0</td>\n",
       "    </tr>\n",
       "  </tbody>\n",
       "</table>\n",
       "</div>"
      ],
      "text/plain": [
       "   R_square         R  slope  intercept  test_num\n",
       "0      0.97  0.984886  0.959    -4.8818  141505.0"
      ]
     },
     "execution_count": null,
     "metadata": {},
     "output_type": "execute_result"
    },
    {
     "data": {
      "image/png": "[encoded data removed]",
      "text/plain": [
       "<Figure size 432x288 with 1 Axes>"
      ]
     },
     "metadata": {
      "needs_background": "light"
     },
     "output_type": "display_data"
    }
   ],
   "source": [
    "psm_df = mq_reader.psm_df#.groupby(['sequence','mods','mod_sites','nAA','charge'])['ccs'].median().reset_index()\n",
    "predict_df = ccs_model.predict(psm_df)\n",
    "evaluate_linear_regression_plot(predict_df, x='ccs_pred',y='ccs')\n",
    "evaluate_linear_regression(predict_df, x='ccs_pred',y='ccs')"
   ]
  },
  {
   "cell_type": "markdown",
   "metadata": {},
   "source": [
    "## Transfer learning on CCS does not provide much help"
   ]
  },
  {
   "cell_type": "code",
   "execution_count": null,
   "metadata": {},
   "outputs": [
    {
     "name": "stdout",
     "output_type": "stream",
     "text": [
      "[Training] Epoch=1, Mean Loss=27.910184693336486\n",
      "[Training] Epoch=2, Mean Loss=24.601712918281557\n",
      "[Training] Epoch=3, Mean Loss=23.188055157661438\n",
      "[Training] Epoch=4, Mean Loss=22.691485035419465\n",
      "[Training] Epoch=5, Mean Loss=22.55518239736557\n",
      "[Training] Epoch=6, Mean Loss=22.40070036649704\n",
      "[Training] Epoch=7, Mean Loss=20.52079952955246\n",
      "[Training] Epoch=8, Mean Loss=20.285676538944244\n",
      "[Training] Epoch=9, Mean Loss=19.69653673171997\n",
      "[Training] Epoch=10, Mean Loss=19.446448934078216\n"
     ]
    },
    {
     "name": "stderr",
     "output_type": "stream",
     "text": [
      "/Users/zengwenfeng/opt/anaconda3/lib/python3.8/site-packages/statsmodels/tsa/tsatools.py:130: FutureWarning: In a future version of pandas all arguments of concat except for the argument 'objs' will be keyword-only\n",
      "  x = pd.concat(x[::order], 1)\n"
     ]
    },
    {
     "data": {
      "text/html": [
       "<div>\n",
       "<style scoped>\n",
       "    .dataframe tbody tr th:only-of-type {\n",
       "        vertical-align: middle;\n",
       "    }\n",
       "\n",
       "    .dataframe tbody tr th {\n",
       "        vertical-align: top;\n",
       "    }\n",
       "\n",
       "    .dataframe thead th {\n",
       "        text-align: right;\n",
       "    }\n",
       "</style>\n",
       "<table border=\"1\" class=\"dataframe\">\n",
       "  <thead>\n",
       "    <tr style=\"text-align: right;\">\n",
       "      <th></th>\n",
       "      <th>R_square</th>\n",
       "      <th>R</th>\n",
       "      <th>slope</th>\n",
       "      <th>intercept</th>\n",
       "      <th>test_num</th>\n",
       "    </tr>\n",
       "  </thead>\n",
       "  <tbody>\n",
       "    <tr>\n",
       "      <th>0</th>\n",
       "      <td>0.972</td>\n",
       "      <td>0.985901</td>\n",
       "      <td>0.9758</td>\n",
       "      <td>11.686</td>\n",
       "      <td>138446.0</td>\n",
       "    </tr>\n",
       "  </tbody>\n",
       "</table>\n",
       "</div>"
      ],
      "text/plain": [
       "   R_square         R   slope  intercept  test_num\n",
       "0     0.972  0.985901  0.9758     11.686  138446.0"
      ]
     },
     "execution_count": null,
     "metadata": {},
     "output_type": "execute_result"
    },
    {
     "data": {
      "image/png": "[encoded data removed]",
      "text/plain": [
       "<Figure size 432x288 with 1 Axes>"
      ]
     },
     "metadata": {
      "needs_background": "light"
     },
     "output_type": "display_data"
    }
   ],
   "source": [
    "import numpy as np\n",
    "import pandas as pd\n",
    "n_train = 5000\n",
    "\n",
    "from peptdeep.utils import uniform_sampling\n",
    "train_df, test_df = uniform_sampling(psm_df, target='ccs', n_train=n_train, return_test_df=True)\n",
    "ccs_model.train(train_df, verbose=True)\n",
    "predict_df = ccs_model.predict(test_df)\n",
    "evaluate_linear_regression_plot(predict_df, x='ccs_pred',y='ccs')\n",
    "evaluate_linear_regression(predict_df, x='ccs_pred',y='ccs')"
   ]
  },
  {
   "cell_type": "markdown",
   "metadata": {},
   "source": [
    "# 3. Test rt_model"
   ]
  },
  {
   "cell_type": "code",
   "execution_count": null,
   "metadata": {},
   "outputs": [],
   "source": [
    "from sklearn.neighbors import KNeighborsRegressor\n",
    "\n",
    "def adjust_rt_pred(train_df, test_df, x='rt_pred', y='rt_norm', target='rt_adjust'):\n",
    "    model = KNeighborsRegressor(n_neighbors=3, weights='distance')\n",
    "    model.fit(train_df[x].values.reshape((-1,1)), train_df[y].values.reshape((-1,1)))\n",
    "    test_df[target] = model.predict(test_df[x].values.reshape((-1,1)))\n",
    "    return test_df"
   ]
  },
  {
   "cell_type": "markdown",
   "metadata": {},
   "source": [
    "## Test on Pan-human library"
   ]
  },
  {
   "cell_type": "code",
   "execution_count": null,
   "metadata": {},
   "outputs": [
    {
     "data": {
      "text/html": [
       "<div>\n",
       "<style scoped>\n",
       "    .dataframe tbody tr th:only-of-type {\n",
       "        vertical-align: middle;\n",
       "    }\n",
       "\n",
       "    .dataframe tbody tr th {\n",
       "        vertical-align: top;\n",
       "    }\n",
       "\n",
       "    .dataframe thead th {\n",
       "        text-align: right;\n",
       "    }\n",
       "</style>\n",
       "<table border=\"1\" class=\"dataframe\">\n",
       "  <thead>\n",
       "    <tr style=\"text-align: right;\">\n",
       "      <th></th>\n",
       "      <th>sequence</th>\n",
       "      <th>charge</th>\n",
       "      <th>rt</th>\n",
       "      <th>precursor_mz</th>\n",
       "      <th>proteins</th>\n",
       "      <th>mods</th>\n",
       "      <th>mod_sites</th>\n",
       "      <th>nAA</th>\n",
       "      <th>rt_norm</th>\n",
       "    </tr>\n",
       "  </thead>\n",
       "  <tbody>\n",
       "    <tr>\n",
       "      <th>0</th>\n",
       "      <td>NPAYIPR</td>\n",
       "      <td>2</td>\n",
       "      <td>-3.8</td>\n",
       "      <td>415.729595</td>\n",
       "      <td>1/O15234</td>\n",
       "      <td></td>\n",
       "      <td></td>\n",
       "      <td>7</td>\n",
       "      <td>0.230008</td>\n",
       "    </tr>\n",
       "    <tr>\n",
       "      <th>1</th>\n",
       "      <td>HYIFNPR</td>\n",
       "      <td>2</td>\n",
       "      <td>-3.5</td>\n",
       "      <td>473.748319</td>\n",
       "      <td>1/Q9NYU2</td>\n",
       "      <td></td>\n",
       "      <td></td>\n",
       "      <td>7</td>\n",
       "      <td>0.231245</td>\n",
       "    </tr>\n",
       "    <tr>\n",
       "      <th>2</th>\n",
       "      <td>DADPILR</td>\n",
       "      <td>2</td>\n",
       "      <td>0.1</td>\n",
       "      <td>400.219060</td>\n",
       "      <td>1/P31327</td>\n",
       "      <td></td>\n",
       "      <td></td>\n",
       "      <td>7</td>\n",
       "      <td>0.246084</td>\n",
       "    </tr>\n",
       "    <tr>\n",
       "      <th>3</th>\n",
       "      <td>HYTEAIK</td>\n",
       "      <td>2</td>\n",
       "      <td>-29.9</td>\n",
       "      <td>431.226885</td>\n",
       "      <td>1/P31948</td>\n",
       "      <td></td>\n",
       "      <td></td>\n",
       "      <td>7</td>\n",
       "      <td>0.122424</td>\n",
       "    </tr>\n",
       "    <tr>\n",
       "      <th>4</th>\n",
       "      <td>TPEDFLK</td>\n",
       "      <td>2</td>\n",
       "      <td>19.8</td>\n",
       "      <td>425.221269</td>\n",
       "      <td>1/Q9BSJ2</td>\n",
       "      <td></td>\n",
       "      <td></td>\n",
       "      <td>7</td>\n",
       "      <td>0.327288</td>\n",
       "    </tr>\n",
       "    <tr>\n",
       "      <th>...</th>\n",
       "      <td>...</td>\n",
       "      <td>...</td>\n",
       "      <td>...</td>\n",
       "      <td>...</td>\n",
       "      <td>...</td>\n",
       "      <td>...</td>\n",
       "      <td>...</td>\n",
       "      <td>...</td>\n",
       "      <td>...</td>\n",
       "    </tr>\n",
       "    <tr>\n",
       "      <th>204559</th>\n",
       "      <td>LYLTIHSDHEGGNVSAHTSHLVGSALSDPYLSFAAAMNGLAGPLHG...</td>\n",
       "      <td>6</td>\n",
       "      <td>157.7</td>\n",
       "      <td>1075.718990</td>\n",
       "      <td>1/O75390</td>\n",
       "      <td></td>\n",
       "      <td></td>\n",
       "      <td>61</td>\n",
       "      <td>0.895713</td>\n",
       "    </tr>\n",
       "    <tr>\n",
       "      <th>204560</th>\n",
       "      <td>SGQSSGYGQHGSSSGHSSTHGQHGSTSGQSSSCGQHGASSGQSSSH...</td>\n",
       "      <td>7</td>\n",
       "      <td>-36.6</td>\n",
       "      <td>834.059066</td>\n",
       "      <td>1/Q86YZ3</td>\n",
       "      <td>Carbamidomethyl@C</td>\n",
       "      <td>33</td>\n",
       "      <td>61</td>\n",
       "      <td>0.094806</td>\n",
       "    </tr>\n",
       "    <tr>\n",
       "      <th>204561</th>\n",
       "      <td>SPSAVAAAAAAVFHQQHGGQQSPGLAALQSGGGGGLEPYAGPQQNS...</td>\n",
       "      <td>7</td>\n",
       "      <td>78.0</td>\n",
       "      <td>922.862961</td>\n",
       "      <td>1/O14497</td>\n",
       "      <td></td>\n",
       "      <td></td>\n",
       "      <td>63</td>\n",
       "      <td>0.567189</td>\n",
       "    </tr>\n",
       "    <tr>\n",
       "      <th>204562</th>\n",
       "      <td>DEAAGGAAAAAAEAGAASGEQAAAPGEEAAAGEEGAAGGDPQEAKP...</td>\n",
       "      <td>6</td>\n",
       "      <td>41.9</td>\n",
       "      <td>955.274139</td>\n",
       "      <td>1/P29966</td>\n",
       "      <td></td>\n",
       "      <td></td>\n",
       "      <td>63</td>\n",
       "      <td>0.418384</td>\n",
       "    </tr>\n",
       "    <tr>\n",
       "      <th>204563</th>\n",
       "      <td>GGSGGSYGGGSGSGGGSGGGYGGGSGGGHSGGSGGGHSGGSGGNYG...</td>\n",
       "      <td>5</td>\n",
       "      <td>-16.2</td>\n",
       "      <td>995.393098</td>\n",
       "      <td>1/P35527</td>\n",
       "      <td></td>\n",
       "      <td></td>\n",
       "      <td>66</td>\n",
       "      <td>0.178895</td>\n",
       "    </tr>\n",
       "  </tbody>\n",
       "</table>\n",
       "<p>204564 rows × 9 columns</p>\n",
       "</div>"
      ],
      "text/plain": [
       "                                                 sequence  charge     rt  \\\n",
       "0                                                 NPAYIPR       2   -3.8   \n",
       "1                                                 HYIFNPR       2   -3.5   \n",
       "2                                                 DADPILR       2    0.1   \n",
       "3                                                 HYTEAIK       2  -29.9   \n",
       "4                                                 TPEDFLK       2   19.8   \n",
       "...                                                   ...     ...    ...   \n",
       "204559  LYLTIHSDHEGGNVSAHTSHLVGSALSDPYLSFAAAMNGLAGPLHG...       6  157.7   \n",
       "204560  SGQSSGYGQHGSSSGHSSTHGQHGSTSGQSSSCGQHGASSGQSSSH...       7  -36.6   \n",
       "204561  SPSAVAAAAAAVFHQQHGGQQSPGLAALQSGGGGGLEPYAGPQQNS...       7   78.0   \n",
       "204562  DEAAGGAAAAAAEAGAASGEQAAAPGEEAAAGEEGAAGGDPQEAKP...       6   41.9   \n",
       "204563  GGSGGSYGGGSGSGGGSGGGYGGGSGGGHSGGSGGGHSGGSGGNYG...       5  -16.2   \n",
       "\n",
       "        precursor_mz  proteins               mods mod_sites  nAA   rt_norm  \n",
       "0         415.729595  1/O15234                                 7  0.230008  \n",
       "1         473.748319  1/Q9NYU2                                 7  0.231245  \n",
       "2         400.219060  1/P31327                                 7  0.246084  \n",
       "3         431.226885  1/P31948                                 7  0.122424  \n",
       "4         425.221269  1/Q9BSJ2                                 7  0.327288  \n",
       "...              ...       ...                ...       ...  ...       ...  \n",
       "204559   1075.718990  1/O75390                                61  0.895713  \n",
       "204560    834.059066  1/Q86YZ3  Carbamidomethyl@C        33   61  0.094806  \n",
       "204561    922.862961  1/O14497                                63  0.567189  \n",
       "204562    955.274139  1/P29966                                63  0.418384  \n",
       "204563    995.393098  1/P35527                                66  0.178895  \n",
       "\n",
       "[204564 rows x 9 columns]"
      ]
     },
     "execution_count": null,
     "metadata": {},
     "output_type": "execute_result"
    }
   ],
   "source": [
    "from alphabase.psm_reader import psm_reader_provider\n",
    "\n",
    "phl_url = 'https://datashare.biochem.mpg.de/s/GyVnHxasODv5hYc/download'\n",
    "phl = 'sandbox/test_files/phl004_canonical_s32_osw.tsv'\n",
    "download_data(phl_url, phl)\n",
    "\n",
    "mq_reader = psm_reader_provider.get_reader('openswath')\n",
    "mq_reader.load(phl)\n",
    "\n",
    "mq_reader = psm_reader_provider.get_reader('openswath')\n",
    "mq_reader.load(phl)"
   ]
  },
  {
   "cell_type": "code",
   "execution_count": null,
   "metadata": {},
   "outputs": [
    {
     "name": "stderr",
     "output_type": "stream",
     "text": [
      "/Users/zengwenfeng/opt/anaconda3/lib/python3.8/site-packages/statsmodels/tsa/tsatools.py:130: FutureWarning: In a future version of pandas all arguments of concat except for the argument 'objs' will be keyword-only\n",
      "  x = pd.concat(x[::order], 1)\n"
     ]
    },
    {
     "data": {
      "text/html": [
       "<div>\n",
       "<style scoped>\n",
       "    .dataframe tbody tr th:only-of-type {\n",
       "        vertical-align: middle;\n",
       "    }\n",
       "\n",
       "    .dataframe tbody tr th {\n",
       "        vertical-align: top;\n",
       "    }\n",
       "\n",
       "    .dataframe thead th {\n",
       "        text-align: right;\n",
       "    }\n",
       "</style>\n",
       "<table border=\"1\" class=\"dataframe\">\n",
       "  <thead>\n",
       "    <tr style=\"text-align: right;\">\n",
       "      <th></th>\n",
       "      <th>R_square</th>\n",
       "      <th>R</th>\n",
       "      <th>slope</th>\n",
       "      <th>intercept</th>\n",
       "      <th>test_num</th>\n",
       "    </tr>\n",
       "  </thead>\n",
       "  <tbody>\n",
       "    <tr>\n",
       "      <th>0</th>\n",
       "      <td>0.924</td>\n",
       "      <td>0.961249</td>\n",
       "      <td>0.7074</td>\n",
       "      <td>0.065</td>\n",
       "      <td>204564.0</td>\n",
       "    </tr>\n",
       "  </tbody>\n",
       "</table>\n",
       "</div>"
      ],
      "text/plain": [
       "   R_square         R   slope  intercept  test_num\n",
       "0     0.924  0.961249  0.7074      0.065  204564.0"
      ]
     },
     "execution_count": null,
     "metadata": {},
     "output_type": "execute_result"
    },
    {
     "data": {
      "image/png": "[encoded data removed]",
      "text/plain": [
       "<Figure size 432x288 with 1 Axes>"
      ]
     },
     "metadata": {
      "needs_background": "light"
     },
     "output_type": "display_data"
    }
   ],
   "source": [
    "psm_df = mq_reader.psm_df#.groupby(['sequence','mods','mod_sites','nAA'])['rt_norm'].median().reset_index()\n",
    "predict_df = rt_model.predict(psm_df)\n",
    "\n",
    "evaluate_linear_regression_plot(predict_df, x='rt_pred',y='rt_norm')\n",
    "evaluate_linear_regression(predict_df, x='rt_pred',y='rt_norm')"
   ]
  },
  {
   "cell_type": "markdown",
   "metadata": {},
   "source": [
    "## Test for KNN-based RT calibration on phl\n",
    "\n",
    "Better but not very good. It is useful when we only have detected RT values without peptide information."
   ]
  },
  {
   "cell_type": "code",
   "execution_count": null,
   "metadata": {},
   "outputs": [
    {
     "name": "stderr",
     "output_type": "stream",
     "text": [
      "/Users/zengwenfeng/opt/anaconda3/lib/python3.8/site-packages/statsmodels/tsa/tsatools.py:130: FutureWarning: In a future version of pandas all arguments of concat except for the argument 'objs' will be keyword-only\n",
      "  x = pd.concat(x[::order], 1)\n"
     ]
    },
    {
     "data": {
      "text/html": [
       "<div>\n",
       "<style scoped>\n",
       "    .dataframe tbody tr th:only-of-type {\n",
       "        vertical-align: middle;\n",
       "    }\n",
       "\n",
       "    .dataframe tbody tr th {\n",
       "        vertical-align: top;\n",
       "    }\n",
       "\n",
       "    .dataframe thead th {\n",
       "        text-align: right;\n",
       "    }\n",
       "</style>\n",
       "<table border=\"1\" class=\"dataframe\">\n",
       "  <thead>\n",
       "    <tr style=\"text-align: right;\">\n",
       "      <th></th>\n",
       "      <th>R_square</th>\n",
       "      <th>R</th>\n",
       "      <th>slope</th>\n",
       "      <th>intercept</th>\n",
       "      <th>test_num</th>\n",
       "    </tr>\n",
       "  </thead>\n",
       "  <tbody>\n",
       "    <tr>\n",
       "      <th>0</th>\n",
       "      <td>0.952</td>\n",
       "      <td>0.975705</td>\n",
       "      <td>0.9218</td>\n",
       "      <td>0.0307</td>\n",
       "      <td>199564.0</td>\n",
       "    </tr>\n",
       "  </tbody>\n",
       "</table>\n",
       "</div>"
      ],
      "text/plain": [
       "   R_square         R   slope  intercept  test_num\n",
       "0     0.952  0.975705  0.9218     0.0307  199564.0"
      ]
     },
     "execution_count": null,
     "metadata": {},
     "output_type": "execute_result"
    },
    {
     "data": {
      "image/png": "[encoded data removed]",
      "text/plain": [
       "<Figure size 432x288 with 1 Axes>"
      ]
     },
     "metadata": {
      "needs_background": "light"
     },
     "output_type": "display_data"
    }
   ],
   "source": [
    "import numpy as np\n",
    "import pandas as pd\n",
    "n_train = 5000\n",
    "\n",
    "from peptdeep.utils import uniform_sampling\n",
    "train_df, test_df = uniform_sampling(\n",
    "    psm_df, target='rt_norm', n_train=n_train, return_test_df=True\n",
    ")\n",
    "predict_df = adjust_rt_pred(train_df, test_df)\n",
    "evaluate_linear_regression_plot(predict_df, x='rt_adjust',y='rt_norm')\n",
    "evaluate_linear_regression(predict_df, x='rt_adjust',y='rt_norm')"
   ]
  },
  {
   "cell_type": "markdown",
   "metadata": {},
   "source": [
    "## Transfer learning on phl"
   ]
  },
  {
   "cell_type": "code",
   "execution_count": null,
   "metadata": {},
   "outputs": [
    {
     "name": "stdout",
     "output_type": "stream",
     "text": [
      "[Training] Epoch=1, Mean Loss=0.0792897620704025\n",
      "[Training] Epoch=2, Mean Loss=0.06215311035824319\n",
      "[Training] Epoch=3, Mean Loss=0.04669882221302638\n",
      "[Training] Epoch=4, Mean Loss=0.03639420343097299\n",
      "[Training] Epoch=5, Mean Loss=0.028639113258880872\n",
      "[Training] Epoch=6, Mean Loss=0.024080318903240066\n",
      "[Training] Epoch=7, Mean Loss=0.020858850601750117\n",
      "[Training] Epoch=8, Mean Loss=0.01890116071444936\n",
      "[Training] Epoch=9, Mean Loss=0.017521525151096284\n",
      "[Training] Epoch=10, Mean Loss=0.0165164604356202\n",
      "[Training] Epoch=11, Mean Loss=0.01569973584264517\n",
      "[Training] Epoch=12, Mean Loss=0.015362688185026249\n",
      "[Training] Epoch=13, Mean Loss=0.014632448379416019\n",
      "[Training] Epoch=14, Mean Loss=0.014081775972348018\n",
      "[Training] Epoch=15, Mean Loss=0.013669773625830809\n",
      "[Training] Epoch=16, Mean Loss=0.012782507563921778\n",
      "[Training] Epoch=17, Mean Loss=0.013298013752015928\n",
      "[Training] Epoch=18, Mean Loss=0.012232095366925932\n",
      "[Training] Epoch=19, Mean Loss=0.012821119078580523\n",
      "[Training] Epoch=20, Mean Loss=0.012507598216567809\n"
     ]
    }
   ],
   "source": [
    "rt_model.train(train_df, epoch=20, verbose=True, verbose_each_epoch=False)"
   ]
  },
  {
   "cell_type": "code",
   "execution_count": null,
   "metadata": {},
   "outputs": [
    {
     "name": "stderr",
     "output_type": "stream",
     "text": [
      "/Users/zengwenfeng/opt/anaconda3/lib/python3.8/site-packages/statsmodels/tsa/tsatools.py:130: FutureWarning: In a future version of pandas all arguments of concat except for the argument 'objs' will be keyword-only\n",
      "  x = pd.concat(x[::order], 1)\n"
     ]
    },
    {
     "data": {
      "text/html": [
       "<div>\n",
       "<style scoped>\n",
       "    .dataframe tbody tr th:only-of-type {\n",
       "        vertical-align: middle;\n",
       "    }\n",
       "\n",
       "    .dataframe tbody tr th {\n",
       "        vertical-align: top;\n",
       "    }\n",
       "\n",
       "    .dataframe thead th {\n",
       "        text-align: right;\n",
       "    }\n",
       "</style>\n",
       "<table border=\"1\" class=\"dataframe\">\n",
       "  <thead>\n",
       "    <tr style=\"text-align: right;\">\n",
       "      <th></th>\n",
       "      <th>R_square</th>\n",
       "      <th>R</th>\n",
       "      <th>slope</th>\n",
       "      <th>intercept</th>\n",
       "      <th>test_num</th>\n",
       "    </tr>\n",
       "  </thead>\n",
       "  <tbody>\n",
       "    <tr>\n",
       "      <th>0</th>\n",
       "      <td>0.989</td>\n",
       "      <td>0.994485</td>\n",
       "      <td>0.9752</td>\n",
       "      <td>0.0099</td>\n",
       "      <td>199564.0</td>\n",
       "    </tr>\n",
       "  </tbody>\n",
       "</table>\n",
       "</div>"
      ],
      "text/plain": [
       "   R_square         R   slope  intercept  test_num\n",
       "0     0.989  0.994485  0.9752     0.0099  199564.0"
      ]
     },
     "execution_count": null,
     "metadata": {},
     "output_type": "execute_result"
    },
    {
     "data": {
      "image/png": "[encoded data removed]",
      "text/plain": [
       "<Figure size 432x288 with 1 Axes>"
      ]
     },
     "metadata": {
      "needs_background": "light"
     },
     "output_type": "display_data"
    }
   ],
   "source": [
    "predict_df = rt_model.predict(test_df)\n",
    "evaluate_linear_regression_plot(predict_df, x='rt_pred',y='rt_norm')\n",
    "evaluate_linear_regression(predict_df, x='rt_pred',y='rt_norm')"
   ]
  }
 ],
 "metadata": {
  "kernelspec": {
   "display_name": "Python 3.8.3 ('base')",
   "language": "python",
   "name": "python3"
  }
 },
 "nbformat": 4,
 "nbformat_minor": 4
}
