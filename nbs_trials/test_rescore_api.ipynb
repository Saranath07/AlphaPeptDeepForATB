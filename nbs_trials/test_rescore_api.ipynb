{
 "cells": [
  {
   "cell_type": "code",
   "execution_count": null,
   "metadata": {},
   "outputs": [],
   "source": [
    "%reload_ext autoreload\n",
    "%autoreload 2"
   ]
  },
  {
   "cell_type": "code",
   "execution_count": null,
   "metadata": {},
   "outputs": [],
   "source": [
    "from peptdeep.pipeline_api import rescore, global_settings\n",
    "import os\n",
    "\n",
    "alphapept_hdf = os.path.expanduser(\n",
    "    '~/Workspace/Data/HeLa_500ng/HeLa_DDA_tims.ms_data.hdf'\n",
    ")\n",
    "perc_settings=global_settings['percolator']\n",
    "perc_settings['require_model_tuning'] = False\n",
    "perc_settings['multiprocessing'] = False\n",
    "perc_settings['input_files']['psm_files'] = [alphapept_hdf]\n",
    "perc_settings['input_files']['psm_type'] = 'alphapept'\n",
    "perc_settings['input_files']['ms_file_type'] = 'alphapept'\n",
    "perc_settings['input_files']['ms_files'] = [alphapept_hdf]"
   ]
  },
  {
   "cell_type": "code",
   "execution_count": null,
   "metadata": {},
   "outputs": [
    {
     "name": "stdout",
     "output_type": "stream",
     "text": [
      "2023-01-09 19:00:42> Platform information:\n",
      "2023-01-09 19:00:42> system        - Darwin\n",
      "2023-01-09 19:00:42> release       - 20.6.0\n",
      "2023-01-09 19:00:42> version       - 10.16\n",
      "2023-01-09 19:00:42> machine       - x86_64\n",
      "2023-01-09 19:00:42> processor     - i386\n",
      "2023-01-09 19:00:42> cpu count     - 8\n",
      "2023-01-09 19:00:42> ram           - 12.1/32.0 Gb (available/total)\n",
      "2023-01-09 19:00:42> \n",
      "2023-01-09 19:00:42> Python information:\n",
      "2023-01-09 19:00:42> alphabase        - 1.0.0\n",
      "2023-01-09 19:00:42> biopython        - 1.78\n",
      "2023-01-09 19:00:42> click            - 8.1.3\n",
      "2023-01-09 19:00:42> lxml             - 4.6.2\n",
      "2023-01-09 19:00:42> numba            - 0.54.0\n",
      "2023-01-09 19:00:42> numpy            - 1.19.4\n",
      "2023-01-09 19:00:42> pandas           - 1.3.5\n",
      "2023-01-09 19:00:42> peptdeep         - 1.0.0\n",
      "2023-01-09 19:00:42> psutil           - 5.8.0\n",
      "2023-01-09 19:00:42> python           - 3.8.3\n",
      "2023-01-09 19:00:42> scikit-learn     - 1.1.1\n",
      "2023-01-09 19:00:42> streamlit        - 1.16.0\n",
      "2023-01-09 19:00:42> streamlit-aggrid - 0.2.1\n",
      "2023-01-09 19:00:42> torch            - 1.7.1\n",
      "2023-01-09 19:00:42> tqdm             - 4.56.0\n",
      "2023-01-09 19:00:42> transformers     - 4.16.1\n",
      "2023-01-09 19:00:42> \n",
      "2023-01-09 19:00:55> Extracting peptdeep features ...\n"
     ]
    },
    {
     "name": "stderr",
     "output_type": "stream",
     "text": [
      "100%|██████████| 1/1 [17:53<00:00, 1073.69s/it]"
     ]
    },
    {
     "name": "stdout",
     "output_type": "stream",
     "text": [
      "2023-01-09 19:18:48> Finish extracting features\n"
     ]
    },
    {
     "name": "stderr",
     "output_type": "stream",
     "text": [
      "\n"
     ]
    },
    {
     "name": "stdout",
     "output_type": "stream",
     "text": [
      "2023-01-09 19:18:50> [PERC] 23051 target PSMs at 0.01 psm-level FDR\n",
      "2023-01-09 19:18:50> [PERC] Iteration 1 of Percolator ...\n",
      "2023-01-09 19:18:55> [PERC] 29830 target PSMs at 0.01 psm-level FDR\n",
      "2023-01-09 19:18:55> [PERC] Iteration 2 of Percolator ...\n",
      "2023-01-09 19:19:00> [PERC] 33661 target PSMs at 0.01 psm-level FDR\n",
      "2023-01-09 19:19:00> [PERC] Iteration 3 of Percolator ...\n",
      "2023-01-09 19:19:06> [PERC] 36052 target PSMs at 0.01 psm-level FDR\n",
      "2023-01-09 19:19:06> [PERC] Iteration 4 of Percolator ...\n",
      "2023-01-09 19:19:12> [PERC] 37069 target PSMs at 0.01 psm-level FDR\n",
      "2023-01-09 19:19:12> [PERC] Iteration 5 of Percolator ...\n",
      "2023-01-09 19:19:17> [PERC] 37419 target PSMs at 0.01 psm-level FDR\n",
      "2023-01-09 19:19:17> [PERC] 37419 target PSMs at 0.01 psm-level FDR\n"
     ]
    }
   ],
   "source": [
    "rescore()"
   ]
  }
 ],
 "metadata": {
  "kernelspec": {
   "display_name": "Python 3.8.3 ('base')",
   "language": "python",
   "name": "python3"
  }
 },
 "nbformat": 4,
 "nbformat_minor": 2
}
