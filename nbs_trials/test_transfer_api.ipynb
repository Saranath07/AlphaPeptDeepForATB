{
 "cells": [
  {
   "cell_type": "code",
   "execution_count": null,
   "metadata": {},
   "outputs": [],
   "source": [
    "#hide\n",
    "%reload_ext autoreload\n",
    "%autoreload 2"
   ]
  },
  {
   "cell_type": "code",
   "execution_count": null,
   "metadata": {},
   "outputs": [
    {
     "name": "stdout",
     "output_type": "stream",
     "text": [
      "2022-07-13 09:22:46> Loading PSMs and extracting fragments ...\n"
     ]
    },
    {
     "name": "stderr",
     "output_type": "stream",
     "text": [
      "100%|██████████| 1/1 [00:11<00:00, 11.61s/it]"
     ]
    },
    {
     "name": "stdout",
     "output_type": "stream",
     "text": [
      "2022-07-13 09:23:04> Training CCS model ...\n"
     ]
    },
    {
     "name": "stderr",
     "output_type": "stream",
     "text": [
      "\n"
     ]
    },
    {
     "name": "stdout",
     "output_type": "stream",
     "text": [
      "[Training] Epoch=1, lr=0.0001, loss=14.450491610027495\n",
      "[Training] Epoch=2, lr=0.0, loss=13.22893138158889\n",
      "2022-07-13 09:23:08> Finished training CCS model\n",
      "2022-07-13 09:23:08> Training RT model ...\n",
      "[Training] Epoch=1, lr=0.0001, loss=0.04508377451981817\n",
      "[Training] Epoch=2, lr=0.0, loss=0.041880996631724496\n",
      "2022-07-13 09:23:12> Finished training RT model\n",
      "2022-07-13 09:23:12> Training MS2 model ...\n",
      "[Training] Epoch=1, lr=0.0001, loss=0.03655598241658438\n",
      "[Training] Epoch=2, lr=0.0, loss=0.030443063892778895\n",
      "2022-07-13 09:23:26> Finished training MS2 model\n",
      "2022-07-13 09:23:26> Models were saved in /Users/zengwenfeng/peptdeep/transfer_models\n"
     ]
    }
   ],
   "source": [
    "#hide\n",
    "from peptdeep.pipeline_api import transfer_learn\n",
    "from peptdeep.settings import global_settings\n",
    "import os\n",
    "\n",
    "mgr_settings = global_settings['model_mgr']\n",
    "mgr_settings['transfer']['psm_type'] = 'alphapept'\n",
    "mgr_settings['transfer']['psm_files'] = [\n",
    "    os.path.expanduser('~/Workspace/Data/HeLa_500ng/HeLa_DDA_tims.ms_data.hdf')\n",
    "]\n",
    "mgr_settings['transfer']['ms_file_type'] = 'alphapept'\n",
    "mgr_settings['transfer']['ms_files'] = [\n",
    "    os.path.expanduser('~/Workspace/Data/HeLa_500ng/HeLa_DDA_tims.ms_data.hdf')\n",
    "]\n",
    "\n",
    "mgr_settings['transfer']['epoch_ms2'] = 2\n",
    "mgr_settings['transfer']['warmup_epoch_ms2'] = 1\n",
    "mgr_settings['transfer']['psm_num_to_train_ms2'] = 1000\n",
    "mgr_settings['transfer']['epoch_rt_ccs'] = 2\n",
    "mgr_settings['transfer']['warmup_epoch_rt_ccs'] = 1\n",
    "mgr_settings['transfer']['psm_num_to_train_rt_ccs'] = 1000\n",
    "mgr_settings['transfer']['grid_nce_search'] = False\n",
    "\n",
    "transfer_learn()"
   ]
  },
  {
   "cell_type": "code",
   "execution_count": null,
   "metadata": {},
   "outputs": [],
   "source": []
  }
 ],
 "metadata": {
  "kernelspec": {
   "display_name": "Python 3.8.3 ('base')",
   "language": "python",
   "name": "python3"
  }
 },
 "nbformat": 4,
 "nbformat_minor": 2
}
