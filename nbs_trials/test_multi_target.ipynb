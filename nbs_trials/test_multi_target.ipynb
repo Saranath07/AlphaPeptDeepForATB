{
 "cells": [
  {
   "cell_type": "code",
   "execution_count": 1,
   "metadata": {},
   "outputs": [],
   "source": [
    "%reload_ext autoreload\n",
    "%autoreload 2"
   ]
  },
  {
   "cell_type": "markdown",
   "metadata": {},
   "source": [
    "# Model for multi-target values"
   ]
  },
  {
   "cell_type": "code",
   "execution_count": 2,
   "metadata": {},
   "outputs": [],
   "source": [
    "from peptdeep.model.model_shop import (\n",
    "    Model_for_Generic_AASeq_BinaryClassification_LSTM,\n",
    "    Model_for_Generic_AASeq_BinaryClassification_Transformer,\n",
    "    ModelInterface_for_Generic_AASeq_BinaryClassification,\n",
    "    Model_for_Generic_AASeq_Regression_LSTM,\n",
    "    Model_for_Generic_AASeq_Regression_Transformer,\n",
    "    ModelInterface_for_Generic_AASeq_Regression,\n",
    ")\n",
    "import torch\n",
    "import numpy as np\n",
    "\n",
    "class ModelInterface_MultiTarget(ModelInterface_for_Generic_AASeq_BinaryClassification):\n",
    "    def __init__(self):\n",
    "        super().__init__(\n",
    "            model_class=Model_for_Generic_AASeq_BinaryClassification_Transformer,\n",
    "            output_dim=2, # two target values\n",
    "        )\n",
    "        self.num_target_values = 2\n",
    "        self.target_column_to_train = 'target_column'\n",
    "        self.target_column_to_predict = 'pred_column'\n",
    "\n",
    "    def _get_targets_from_batch_df(self, batch_df, **kwargs):\n",
    "        return self._as_tensor(\n",
    "            np.stack(batch_df[self.target_column_to_train].values), \n",
    "            dtype=torch.float32\n",
    "        )\n",
    "\n",
    "    def _prepare_predict_data_df(self, precursor_df, **kwargs):\n",
    "        precursor_df[self.target_column_to_predict] = [\n",
    "            [0]*self.num_target_values\n",
    "        ]*len(precursor_df)\n",
    "        self.predict_df = precursor_df\n",
    "\n",
    "    def _set_batch_predict_data(self, batch_df, predict_values, **kwargs):\n",
    "        predict_values[predict_values<self._min_pred_value] = self._min_pred_value\n",
    "        if self._predict_in_order:\n",
    "            self.predict_df.loc[:,self.target_column_to_predict].values[\n",
    "                batch_df.index.values[0]:batch_df.index.values[-1]+1\n",
    "            ] = list(predict_values)\n",
    "        else:\n",
    "            self.predict_df.loc[\n",
    "                batch_df.index,self.target_column_to_predict\n",
    "            ] = list(predict_values)\n",
    "\n",
    "model = ModelInterface_MultiTarget()"
   ]
  },
  {
   "cell_type": "code",
   "execution_count": 3,
   "metadata": {},
   "outputs": [
    {
     "data": {
      "text/html": [
       "<div>\n",
       "<style scoped>\n",
       "    .dataframe tbody tr th:only-of-type {\n",
       "        vertical-align: middle;\n",
       "    }\n",
       "\n",
       "    .dataframe tbody tr th {\n",
       "        vertical-align: top;\n",
       "    }\n",
       "\n",
       "    .dataframe thead th {\n",
       "        text-align: right;\n",
       "    }\n",
       "</style>\n",
       "<table border=\"1\" class=\"dataframe\">\n",
       "  <thead>\n",
       "    <tr style=\"text-align: right;\">\n",
       "      <th></th>\n",
       "      <th>sequence</th>\n",
       "      <th>target_column</th>\n",
       "    </tr>\n",
       "  </thead>\n",
       "  <tbody>\n",
       "    <tr>\n",
       "      <th>0</th>\n",
       "      <td>ABCDE</td>\n",
       "      <td>[1, 0]</td>\n",
       "    </tr>\n",
       "    <tr>\n",
       "      <th>1</th>\n",
       "      <td>FGHIJK</td>\n",
       "      <td>[0, 1]</td>\n",
       "    </tr>\n",
       "    <tr>\n",
       "      <th>2</th>\n",
       "      <td>LMNOPQ</td>\n",
       "      <td>[1, 1]</td>\n",
       "    </tr>\n",
       "    <tr>\n",
       "      <th>3</th>\n",
       "      <td>RSTUVWXYZ</td>\n",
       "      <td>[0, 0]</td>\n",
       "    </tr>\n",
       "  </tbody>\n",
       "</table>\n",
       "</div>"
      ],
      "text/plain": [
       "    sequence target_column\n",
       "0      ABCDE        [1, 0]\n",
       "1     FGHIJK        [0, 1]\n",
       "2     LMNOPQ        [1, 1]\n",
       "3  RSTUVWXYZ        [0, 0]"
      ]
     },
     "execution_count": 3,
     "metadata": {},
     "output_type": "execute_result"
    }
   ],
   "source": [
    "import pandas as pd\n",
    "\n",
    "df = pd.DataFrame({\n",
    "    'sequence': ['ABCDE','FGHIJK','LMNOPQ','RSTUVWXYZ'],\n",
    "    'target_column': [[1,0],[0,1],[1,1],[0,0]],\n",
    "})\n",
    "df"
   ]
  },
  {
   "cell_type": "code",
   "execution_count": 4,
   "metadata": {},
   "outputs": [
    {
     "data": {
      "text/html": [
       "<div>\n",
       "<style scoped>\n",
       "    .dataframe tbody tr th:only-of-type {\n",
       "        vertical-align: middle;\n",
       "    }\n",
       "\n",
       "    .dataframe tbody tr th {\n",
       "        vertical-align: top;\n",
       "    }\n",
       "\n",
       "    .dataframe thead th {\n",
       "        text-align: right;\n",
       "    }\n",
       "</style>\n",
       "<table border=\"1\" class=\"dataframe\">\n",
       "  <thead>\n",
       "    <tr style=\"text-align: right;\">\n",
       "      <th></th>\n",
       "      <th>sequence</th>\n",
       "      <th>target_column</th>\n",
       "      <th>nAA</th>\n",
       "      <th>pred_column</th>\n",
       "    </tr>\n",
       "  </thead>\n",
       "  <tbody>\n",
       "    <tr>\n",
       "      <th>0</th>\n",
       "      <td>ABCDE</td>\n",
       "      <td>[1, 0]</td>\n",
       "      <td>5</td>\n",
       "      <td>[0.93552226, 0.07380291]</td>\n",
       "    </tr>\n",
       "    <tr>\n",
       "      <th>1</th>\n",
       "      <td>FGHIJK</td>\n",
       "      <td>[0, 1]</td>\n",
       "      <td>6</td>\n",
       "      <td>[0.08214627, 0.89221424]</td>\n",
       "    </tr>\n",
       "    <tr>\n",
       "      <th>2</th>\n",
       "      <td>LMNOPQ</td>\n",
       "      <td>[1, 1]</td>\n",
       "      <td>6</td>\n",
       "      <td>[0.94375694, 0.8868231]</td>\n",
       "    </tr>\n",
       "    <tr>\n",
       "      <th>3</th>\n",
       "      <td>RSTUVWXYZ</td>\n",
       "      <td>[0, 0]</td>\n",
       "      <td>9</td>\n",
       "      <td>[0.05007053, 0.05487113]</td>\n",
       "    </tr>\n",
       "  </tbody>\n",
       "</table>\n",
       "</div>"
      ],
      "text/plain": [
       "    sequence target_column  nAA               pred_column\n",
       "0      ABCDE        [1, 0]    5  [0.93552226, 0.07380291]\n",
       "1     FGHIJK        [0, 1]    6  [0.08214627, 0.89221424]\n",
       "2     LMNOPQ        [1, 1]    6   [0.94375694, 0.8868231]\n",
       "3  RSTUVWXYZ        [0, 0]    9  [0.05007053, 0.05487113]"
      ]
     },
     "execution_count": 4,
     "metadata": {},
     "output_type": "execute_result"
    }
   ],
   "source": [
    "model.train(df)\n",
    "model.predict(df)"
   ]
  },
  {
   "cell_type": "code",
   "execution_count": 5,
   "metadata": {},
   "outputs": [
    {
     "data": {
      "text/plain": [
       "'target_probs'"
      ]
     },
     "execution_count": 5,
     "metadata": {},
     "output_type": "execute_result"
    }
   ],
   "source": [
    "from peptdeep.model.generic_property_prediction import (\n",
    "    Model_for_Generic_AASeq_BinaryClassification_Transformer,\n",
    "    ModelInterface_for_Generic_AASeq_MultiTargetClassification\n",
    ")\n",
    "model = ModelInterface_for_Generic_AASeq_MultiTargetClassification(\n",
    "    model_class=Model_for_Generic_AASeq_BinaryClassification_Transformer,\n",
    "    num_target_values=2,\n",
    ")\n",
    "model.target_column_to_train"
   ]
  },
  {
   "cell_type": "code",
   "execution_count": 6,
   "metadata": {},
   "outputs": [
    {
     "data": {
      "text/html": [
       "<div>\n",
       "<style scoped>\n",
       "    .dataframe tbody tr th:only-of-type {\n",
       "        vertical-align: middle;\n",
       "    }\n",
       "\n",
       "    .dataframe tbody tr th {\n",
       "        vertical-align: top;\n",
       "    }\n",
       "\n",
       "    .dataframe thead th {\n",
       "        text-align: right;\n",
       "    }\n",
       "</style>\n",
       "<table border=\"1\" class=\"dataframe\">\n",
       "  <thead>\n",
       "    <tr style=\"text-align: right;\">\n",
       "      <th></th>\n",
       "      <th>sequence</th>\n",
       "      <th>target_probs</th>\n",
       "      <th>nAA</th>\n",
       "      <th>target_probs_pred</th>\n",
       "    </tr>\n",
       "  </thead>\n",
       "  <tbody>\n",
       "    <tr>\n",
       "      <th>0</th>\n",
       "      <td>ABCDE</td>\n",
       "      <td>[1, 0]</td>\n",
       "      <td>5</td>\n",
       "      <td>[0.9555132, 0.04477089]</td>\n",
       "    </tr>\n",
       "    <tr>\n",
       "      <th>1</th>\n",
       "      <td>FGHIJK</td>\n",
       "      <td>[0, 1]</td>\n",
       "      <td>6</td>\n",
       "      <td>[0.07803793, 0.88632977]</td>\n",
       "    </tr>\n",
       "    <tr>\n",
       "      <th>2</th>\n",
       "      <td>LMNOPQ</td>\n",
       "      <td>[1, 1]</td>\n",
       "      <td>6</td>\n",
       "      <td>[0.9190902, 0.89732695]</td>\n",
       "    </tr>\n",
       "    <tr>\n",
       "      <th>3</th>\n",
       "      <td>RSTUVWXYZ</td>\n",
       "      <td>[0, 0]</td>\n",
       "      <td>9</td>\n",
       "      <td>[0.04630012, 0.052344453]</td>\n",
       "    </tr>\n",
       "  </tbody>\n",
       "</table>\n",
       "</div>"
      ],
      "text/plain": [
       "    sequence target_probs  nAA          target_probs_pred\n",
       "0      ABCDE       [1, 0]    5    [0.9555132, 0.04477089]\n",
       "1     FGHIJK       [0, 1]    6   [0.07803793, 0.88632977]\n",
       "2     LMNOPQ       [1, 1]    6    [0.9190902, 0.89732695]\n",
       "3  RSTUVWXYZ       [0, 0]    9  [0.04630012, 0.052344453]"
      ]
     },
     "execution_count": 6,
     "metadata": {},
     "output_type": "execute_result"
    }
   ],
   "source": [
    "import pandas as pd\n",
    "\n",
    "df = pd.DataFrame({\n",
    "    'sequence': ['ABCDE','FGHIJK','LMNOPQ','RSTUVWXYZ'],\n",
    "    'target_probs': [[1,0],[0,1],[1,1],[0,0]],\n",
    "})\n",
    "model.train(df)\n",
    "model.predict(df)"
   ]
  },
  {
   "cell_type": "code",
   "execution_count": 7,
   "metadata": {},
   "outputs": [
    {
     "data": {
      "text/plain": [
       "'target_probs'"
      ]
     },
     "execution_count": 7,
     "metadata": {},
     "output_type": "execute_result"
    }
   ],
   "source": [
    "from peptdeep.model.generic_property_prediction import (\n",
    "    Model_for_Generic_ModAASeq_BinaryClassification_Transformer,\n",
    "    ModelInterface_for_Generic_ModAASeq_MultiTargetClassification\n",
    ")\n",
    "model = ModelInterface_for_Generic_ModAASeq_MultiTargetClassification(\n",
    "    model_class=Model_for_Generic_ModAASeq_BinaryClassification_Transformer,\n",
    "    num_target_values=2,\n",
    ")\n",
    "model.target_column_to_train"
   ]
  },
  {
   "cell_type": "code",
   "execution_count": 8,
   "metadata": {},
   "outputs": [
    {
     "data": {
      "text/html": [
       "<div>\n",
       "<style scoped>\n",
       "    .dataframe tbody tr th:only-of-type {\n",
       "        vertical-align: middle;\n",
       "    }\n",
       "\n",
       "    .dataframe tbody tr th {\n",
       "        vertical-align: top;\n",
       "    }\n",
       "\n",
       "    .dataframe thead th {\n",
       "        text-align: right;\n",
       "    }\n",
       "</style>\n",
       "<table border=\"1\" class=\"dataframe\">\n",
       "  <thead>\n",
       "    <tr style=\"text-align: right;\">\n",
       "      <th></th>\n",
       "      <th>sequence</th>\n",
       "      <th>mods</th>\n",
       "      <th>mod_sites</th>\n",
       "      <th>target_probs</th>\n",
       "      <th>nAA</th>\n",
       "      <th>target_probs_pred</th>\n",
       "    </tr>\n",
       "  </thead>\n",
       "  <tbody>\n",
       "    <tr>\n",
       "      <th>0</th>\n",
       "      <td>ABCDE</td>\n",
       "      <td></td>\n",
       "      <td></td>\n",
       "      <td>[1, 0]</td>\n",
       "      <td>5</td>\n",
       "      <td>[0.9591324, 0.060887054]</td>\n",
       "    </tr>\n",
       "    <tr>\n",
       "      <th>1</th>\n",
       "      <td>FGHIJK</td>\n",
       "      <td></td>\n",
       "      <td></td>\n",
       "      <td>[0, 1]</td>\n",
       "      <td>6</td>\n",
       "      <td>[0.11639012, 0.88370585]</td>\n",
       "    </tr>\n",
       "    <tr>\n",
       "      <th>2</th>\n",
       "      <td>LMNOPQ</td>\n",
       "      <td></td>\n",
       "      <td></td>\n",
       "      <td>[1, 1]</td>\n",
       "      <td>6</td>\n",
       "      <td>[0.91906965, 0.89074755]</td>\n",
       "    </tr>\n",
       "    <tr>\n",
       "      <th>3</th>\n",
       "      <td>RSTUVWXYZ</td>\n",
       "      <td></td>\n",
       "      <td></td>\n",
       "      <td>[0, 0]</td>\n",
       "      <td>9</td>\n",
       "      <td>[0.03260221, 0.045892052]</td>\n",
       "    </tr>\n",
       "  </tbody>\n",
       "</table>\n",
       "</div>"
      ],
      "text/plain": [
       "    sequence mods mod_sites target_probs  nAA          target_probs_pred\n",
       "0      ABCDE                      [1, 0]    5   [0.9591324, 0.060887054]\n",
       "1     FGHIJK                      [0, 1]    6   [0.11639012, 0.88370585]\n",
       "2     LMNOPQ                      [1, 1]    6   [0.91906965, 0.89074755]\n",
       "3  RSTUVWXYZ                      [0, 0]    9  [0.03260221, 0.045892052]"
      ]
     },
     "execution_count": 8,
     "metadata": {},
     "output_type": "execute_result"
    }
   ],
   "source": [
    "import pandas as pd\n",
    "\n",
    "df = pd.DataFrame({\n",
    "    'sequence': ['ABCDE','FGHIJK','LMNOPQ','RSTUVWXYZ'],\n",
    "    'mods': \"\",\n",
    "    'mod_sites': \"\",\n",
    "    'target_probs': [[1,0],[0,1],[1,1],[0,0]],\n",
    "})\n",
    "model.train(df)\n",
    "model.predict(df)"
   ]
  },
  {
   "cell_type": "code",
   "execution_count": null,
   "metadata": {},
   "outputs": [],
   "source": []
  }
 ],
 "metadata": {
  "kernelspec": {
   "display_name": "Python 3.8.3 ('base')",
   "language": "python",
   "name": "python3"
  },
  "language_info": {
   "codemirror_mode": {
    "name": "ipython",
    "version": 3
   },
   "file_extension": ".py",
   "mimetype": "text/x-python",
   "name": "python",
   "nbconvert_exporter": "python",
   "pygments_lexer": "ipython3",
   "version": "3.9.12"
  },
  "orig_nbformat": 4,
  "vscode": {
   "interpreter": {
    "hash": "8a3b27e141e49c996c9b863f8707e97aabd49c4a7e8445b9b783b34e4a21a9b2"
   }
  }
 },
 "nbformat": 4,
 "nbformat_minor": 2
}
