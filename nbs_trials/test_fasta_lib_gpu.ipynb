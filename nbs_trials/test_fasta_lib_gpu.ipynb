{
 "cells": [
  {
   "cell_type": "code",
   "execution_count": null,
   "metadata": {},
   "outputs": [],
   "source": [
    "fasta = \"xxx.fasta\"\n",
    "save_tsv = \"xxx.tsv\""
   ]
  },
  {
   "cell_type": "code",
   "execution_count": null,
   "metadata": {},
   "outputs": [],
   "source": [
    "from peptdeep.pretrained_models import ModelManager\n",
    "model_mgr = ModelManager(mask_modloss=False)\n",
    "model_mgr.load_installed_models(\"phos\")"
   ]
  },
  {
   "cell_type": "code",
   "execution_count": null,
   "metadata": {},
   "outputs": [],
   "source": [
    "from peptdeep.protein.fasta import PredictSpecLibFasta\n",
    "\n",
    "fasta_lib = PredictSpecLibFasta(\n",
    "    model_mgr, \n",
    "    charged_frag_types=model_mgr.ms2_model.charged_frag_types,\n",
    "    protease=\"trypsin\",\n",
    "    max_missed_cleavages=1,\n",
    "    peptide_length_min=7,\n",
    "    peptide_length_max=30,\n",
    "    precursor_charge_min=2,\n",
    "    precursor_charge_max=4,\n",
    "    precursor_mz_min=350,\n",
    "    precursor_mz_max=1200,\n",
    "    var_mods=[\"Acetyl@Protein_N-term\",\"Oxidation@M\"],\n",
    "    fix_mods=[\"Carbamidomethyl@C\"],\n",
    "    special_mods=[\"Phospho@S\",\"Phospho@T\",\"Phospho@Y\"],\n",
    "    min_special_mod_num=0,\n",
    "    max_special_mod_num=1,\n",
    "    decoy=None\n",
    ")\n",
    "fasta_lib.import_and_process_fasta([fasta])\n",
    "fasta_lib.precursor_df"
   ]
  },
  {
   "cell_type": "code",
   "execution_count": null,
   "metadata": {},
   "outputs": [],
   "source": [
    "fasta_lib.predict_all()"
   ]
  },
  {
   "cell_type": "code",
   "execution_count": null,
   "metadata": {},
   "outputs": [],
   "source": [
    "from peptdeep.spec_lib.translate import translate_to_tsv\n",
    "\n",
    "translate_to_tsv(\n",
    "    fasta_lib, tsv=save_tsv,\n",
    "    keep_k_highest_fragments=12,\n",
    "    min_frag_mz=200,\n",
    "    min_frag_intensity=0.001\n",
    ")"
   ]
  }
 ],
 "metadata": {
  "language_info": {
   "name": "python"
  }
 },
 "nbformat": 4,
 "nbformat_minor": 2
}
