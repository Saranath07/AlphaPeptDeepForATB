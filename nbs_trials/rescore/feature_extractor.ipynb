{
 "cells": [
  {
   "cell_type": "code",
   "execution_count": null,
   "metadata": {},
   "outputs": [],
   "source": [
    "#---#| default_exp rescore.feature_extractor"
   ]
  },
  {
   "cell_type": "markdown",
   "metadata": {},
   "source": [
    "# Feature Extractor"
   ]
  },
  {
   "cell_type": "markdown",
   "metadata": {},
   "source": [
    "Functionalities to extract features for ML rescore"
   ]
  },
  {
   "cell_type": "code",
   "execution_count": null,
   "metadata": {},
   "outputs": [],
   "source": [
    "from peptdeep.rescore.feature_extractor import *"
   ]
  },
  {
   "cell_type": "markdown",
   "metadata": {},
   "source": [
    "### `ScoreFeatureExtractor`\n",
    "`ScoreFeatureExtractor` and its sub-classes are the most important functionalities for rescoring.\n",
    "\n",
    "They define the fine-tuning parameters to tune RT/CCS/MS2 models. They also define the feature list to feed to Percolator.\n",
    "\n",
    "We recommend to use `ScoreFeatureExtractorMP` as it is faster by using multiprocessing while remain the prediction performance."
   ]
  },
  {
   "cell_type": "markdown",
   "metadata": {},
   "source": [
    "### `ScoreFeatureExtractorMP`\n",
    "\n",
    "`ScoreFeatureExtractorMP` uses multiprocessing to accelerate the feature extraction procedure. The pipeline is:\n",
    "1. Randomly select some raw files to fine-tuning the model. This step also includes two steps: a. ms2 matching with multiprocessing; b. model tuning with a single thread (or GPU). \n",
    "2. Match PSM results of each raw file in the psm_df against the corresponding ms2 file in ms2_file_dict ({`raw_name`: `ms2_file_path`}) to get matched fragment intensity with multiprocessing.\n",
    "3. Predict fragment intensity as well as RT and mobility with a single thread (or GPU). We use a single thread here becauase GPU memory is the main limitation, and we also enable raw-specific fine-tuning for different raw files.\n",
    "4. Calculate the feature values with multiprocessing.\n",
    "\n",
    "The key in `ScoreFeatureExtractorMP` is to access the GPU section without multiprocessing to avoid GPU memory conflicts.\n",
    "\n",
    "The processing speed is very fast with a normal GPU (GTX1080). In our testing, peptdeep can rescore 371 HLA raw files within 1 hour."
   ]
  },
  {
   "cell_type": "code",
   "execution_count": null,
   "metadata": {},
   "outputs": [],
   "source": [
    "#| hide\n",
    "\n",
    "from peptdeep.pretrained_models import ModelManager"
   ]
  },
  {
   "cell_type": "code",
   "execution_count": null,
   "metadata": {},
   "outputs": [],
   "source": [
    "#| hide\n",
    "model_mgr = ModelManager(device='cpu')\n",
    "model_mgr.load_installed_models()\n",
    "ScoreFeatureExtractorMP(model_mgr)\n",
    "ScoreFeatureExtractor(model_mgr)\n",
    "pass"
   ]
  },
  {
   "cell_type": "code",
   "execution_count": null,
   "metadata": {},
   "outputs": [],
   "source": []
  }
 ],
 "metadata": {
  "kernelspec": {
   "display_name": "Python 3.8.3 ('base')",
   "language": "python",
   "name": "python3"
  }
 },
 "nbformat": 4,
 "nbformat_minor": 2
}
