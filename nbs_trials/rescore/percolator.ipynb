{
 "cells": [
  {
   "cell_type": "code",
   "execution_count": null,
   "metadata": {},
   "outputs": [],
   "source": [
    "#---#| default_exp rescore.percolator"
   ]
  },
  {
   "cell_type": "markdown",
   "metadata": {},
   "source": [
    "# Percolator"
   ]
  },
  {
   "cell_type": "markdown",
   "metadata": {},
   "source": [
    "Recoring (Percolator) algorithms and the functionalities. Check the original Percolator paper: https://www.nature.com/articles/nmeth1113"
   ]
  },
  {
   "cell_type": "code",
   "execution_count": null,
   "metadata": {},
   "outputs": [],
   "source": [
    "from peptdeep.rescore.percolator import *"
   ]
  },
  {
   "cell_type": "markdown",
   "metadata": {},
   "source": [
    "### Build-in percolator algorithm"
   ]
  },
  {
   "cell_type": "code",
   "execution_count": null,
   "metadata": {},
   "outputs": [
    {
     "name": "stdout",
     "output_type": "stream",
     "text": [
      "Device `gpu` is not available, set to `cpu`\n",
      "Device `gpu` is not available, set to `cpu`\n",
      "Device `gpu` is not available, set to `cpu`\n",
      "Device `gpu` is not available, set to `cpu`\n",
      "Device `gpu` is not available, set to `cpu`\n",
      "Device `gpu` is not available, set to `cpu`\n",
      "Device `gpu` is not available, set to `cpu`\n",
      "Device `gpu` is not available, set to `cpu`\n",
      "Device `gpu` is not available, set to `cpu`\n",
      "Device `gpu` is not available, set to `cpu`\n",
      "Device `gpu` is not available, set to `cpu`\n",
      "Device `gpu` is not available, set to `cpu`\n",
      "[PERC] PyTorch rescoring model 'random_forest' is not implemented, switch to 'linear' model.\n"
     ]
    }
   ],
   "source": [
    "#| hide\n",
    "Percolator(percolator_model='linear', percolator_backend='pytorch')\n",
    "Percolator(percolator_model='linear', percolator_backend='sklearn')\n",
    "Percolator(percolator_model='random_forest', percolator_backend='sklearn')\n",
    "Percolator(percolator_model='random_forest', percolator_backend='pytorch')\n",
    "pass"
   ]
  },
  {
   "cell_type": "code",
   "execution_count": null,
   "metadata": {},
   "outputs": [],
   "source": []
  }
 ],
 "metadata": {
  "kernelspec": {
   "display_name": "Python 3.8.3 ('base')",
   "language": "python",
   "name": "python3"
  }
 },
 "nbformat": 4,
 "nbformat_minor": 2
}
