{
 "cells": [
  {
   "cell_type": "code",
   "execution_count": null,
   "metadata": {},
   "outputs": [],
   "source": [
    "#---#| default_exp pipeline_api"
   ]
  },
  {
   "cell_type": "markdown",
   "metadata": {},
   "source": [
    "# pipeline API"
   ]
  },
  {
   "cell_type": "markdown",
   "metadata": {},
   "source": [
    "This module provides high-level APIs for different pipelines such as transfer learning, library geneartion, and rescoring (percolator). "
   ]
  },
  {
   "cell_type": "markdown",
   "metadata": {},
   "source": [
    "## Transfer learning pipeline\n",
    "\n",
    "Transfer learning pipeline includes:\n",
    "1. Loading PSM files of the search engine results.\n",
    "2. Matching PSMs against the MS files.\n",
    "3. Loading pre-trained models and refining RT/CCS(/MS2) models.\n",
    "\n",
    "The refined models will be saved in the path pointed by \"PEPTDEEP_HOME\" in `peptdeep.settings.global_settings`."
   ]
  },
  {
   "cell_type": "code",
   "execution_count": null,
   "metadata": {},
   "outputs": [],
   "source": [
    "import torch # noqa: 401, to prevent crash in Mac Arm"
   ]
  },
  {
   "cell_type": "code",
   "execution_count": null,
   "metadata": {},
   "outputs": [
    {
     "name": "stdout",
     "output_type": "stream",
     "text": [
      "2023-08-24 14:18:03> /Users/wenfengzeng/workspace/peptdeep/peptdeep/mass_spec/ms_reader.py#L13: Cannot import `RawFileReader`, check if PythonNet is installed. See https://github.com/MannLabs/alphapeptdeep#pip\n"
     ]
    }
   ],
   "source": [
    "from peptdeep.pipeline_api import global_settings\n",
    "import os\n",
    "import warnings"
   ]
  },
  {
   "cell_type": "markdown",
   "metadata": {},
   "source": [
    "#### Test library generation"
   ]
  },
  {
   "cell_type": "code",
   "execution_count": null,
   "metadata": {},
   "outputs": [
    {
     "name": "stdout",
     "output_type": "stream",
     "text": [
      "`pipeline_api.generate_library()` will be not tested\n"
     ]
    }
   ],
   "source": [
    "from peptdeep.pipeline_api import generate_library\n",
    "\n",
    "fasta = os.path.expanduser('~/Workspace/Data/fasta/irtfusion.fasta')\n",
    "lib_settings = global_settings['library']\n",
    "lib_settings['infile_type'] = 'fasta'\n",
    "lib_settings['infiles'] = [fasta]\n",
    "lib_settings['fasta']['add_contaminants'] = False\n",
    "\n",
    "if os.path.isfile(fasta):\n",
    "    generate_library()\n",
    "else:\n",
    "    print(\"`pipeline_api.generate_library()` will be not tested\")"
   ]
  },
  {
   "cell_type": "markdown",
   "metadata": {},
   "source": [
    "#### Test transfer learning"
   ]
  },
  {
   "cell_type": "code",
   "execution_count": null,
   "metadata": {},
   "outputs": [
    {
     "name": "stdout",
     "output_type": "stream",
     "text": [
      "2023-08-24 14:18:03> Platform information:\n",
      "2023-08-24 14:18:03> system        - Darwin\n",
      "2023-08-24 14:18:03> release       - 21.6.0\n",
      "2023-08-24 14:18:03> version       - 12.5.1\n",
      "2023-08-24 14:18:03> machine       - arm64\n",
      "2023-08-24 14:18:03> processor     - arm\n",
      "2023-08-24 14:18:03> cpu count     - 10\n",
      "2023-08-24 14:18:03> ram           - 28.8/64.0 Gb (available/total)\n",
      "2023-08-24 14:18:03> \n",
      "2023-08-24 14:18:03> Python information:\n",
      "2023-08-24 14:18:03> alphabase        - 1.0.2\n",
      "2023-08-24 14:18:03> biopython        - 1.79\n",
      "2023-08-24 14:18:03> click            - 8.1.3\n",
      "2023-08-24 14:18:03> lxml             - 4.9.1\n",
      "2023-08-24 14:18:03> numba            - 0.56.2\n",
      "2023-08-24 14:18:03> numpy            - 1.23.3\n",
      "2023-08-24 14:18:03> pandas           - 1.5.0\n",
      "2023-08-24 14:18:03> peptdeep         - 1.0.2\n",
      "2023-08-24 14:18:03> psutil           - 5.9.2\n",
      "2023-08-24 14:18:03> python           - 3.9.12\n",
      "2023-08-24 14:18:03> scikit-learn     - 1.1.2\n",
      "2023-08-24 14:18:03> streamlit        - 1.13.0\n",
      "2023-08-24 14:18:03> streamlit-aggrid - 0.3.3\n",
      "2023-08-24 14:18:03> torch            - 2.0.0\n",
      "2023-08-24 14:18:03> tqdm             - 4.64.0\n",
      "2023-08-24 14:18:03> transformers     - 4.28.1\n",
      "2023-08-24 14:18:03> \n",
      "2023-08-24 14:18:05> Loading PSMs and extracting fragments ...\n",
      "2023-08-24 14:18:08> Training CCS model ...\n",
      "2023-08-24 14:18:08> 6 PSMs for CCS model training/transfer learning\n",
      "2023-08-24 14:18:08> Training with fixed sequence length: 0\n",
      "[Training] Epoch=1, lr=5e-05, loss=73.00469970703125\n",
      "[Training] Epoch=2, lr=0.0001, loss=71.1473617553711\n",
      "[Training] Epoch=3, lr=7.500000000000001e-05, loss=70.01078033447266\n",
      "[Training] Epoch=4, lr=2.500000000000001e-05, loss=68.28971099853516\n",
      "[Training] Epoch=5, lr=0.0, loss=70.6283187866211\n",
      "2023-08-24 14:18:08> Finished training CCS model\n",
      "2023-08-24 14:18:08> Training RT model ...\n",
      "2023-08-24 14:18:08> 6 PSMs for RT model training/transfer learning\n",
      "2023-08-24 14:18:08> Training with fixed sequence length: 0\n",
      "[Training] Epoch=1, lr=5e-05, loss=0.1513485610485077\n",
      "[Training] Epoch=2, lr=0.0001, loss=0.14916320145130157\n",
      "[Training] Epoch=3, lr=7.500000000000001e-05, loss=0.15106791257858276\n",
      "[Training] Epoch=4, lr=2.500000000000001e-05, loss=0.14435012638568878\n",
      "[Training] Epoch=5, lr=0.0, loss=0.1386578530073166\n",
      "2023-08-24 14:18:08> Finished training RT model\n",
      "2023-08-24 14:18:08> Training MS2 model ...\n",
      "2023-08-24 14:18:08> 6 PSMs for MS2 model training/transfer learning\n",
      "2023-08-24 14:18:08> Training with fixed sequence length: 0\n",
      "[Training] Epoch=1, lr=5e-05, loss=0.05245283618569374\n",
      "[Training] Epoch=2, lr=0.0001, loss=0.052669014781713486\n",
      "[Training] Epoch=3, lr=7.500000000000001e-05, loss=0.05066704750061035\n",
      "[Training] Epoch=4, lr=2.500000000000001e-05, loss=0.04707982391119003\n",
      "[Training] Epoch=5, lr=0.0, loss=0.04457021504640579\n",
      "2023-08-24 14:18:08> Finished training MS2 model\n",
      "2023-08-24 14:18:09> Models were saved in /Users/wenfengzeng/peptdeep/refined_models\n"
     ]
    }
   ],
   "source": [
    "from io import StringIO\n",
    "from peptdeep.pipeline_api import transfer_learn\n",
    "\n",
    "tsv_str = \"\"\"PrecursorCharge\tModifiedPeptide\tStrippedPeptide\tiRT\tLabeledPeptide\tPrecursorMz\tFragmentLossType\tFragmentNumber\tFragmentType\tFragmentCharge\tFragmentMz\tRelativeIntensity\tIonMobility\n",
    "2\t_DPLAVDK_\tDPLAVDK\t-15.0871\t_DPLAVDK_\t379.2081611\tnoloss\t3\tb\t1\t326.1710473\t14.37029\t0.9\n",
    "2\t_DPLAVDK_\tDPLAVDK\t-15.0871\t_DPLAVDK_\t379.2081611\tnoloss\t3\ty\t1\t361.2081611\t37.7585\t0.9\n",
    "2\t_DPLAVDK_\tDPLAVDK\t-15.0871\t_DPLAVDK_\t379.2081611\tnoloss\t4\tb\t1\t397.2081611\t9.488808\t0.9\n",
    "2\t_DPLAVDK_\tDPLAVDK\t-15.0871\t_DPLAVDK_\t379.2081611\tnoloss\t4\ty\t1\t432.2452749\t100\t0.9\n",
    "2\t_DPLAVDK_\tDPLAVDK\t-15.0871\t_DPLAVDK_\t379.2081611\tnoloss\t5\tb\t1\t496.276575\t5.498003\t0.9\n",
    "2\t_DPLAVDK_\tDPLAVDK\t-15.0871\t_DPLAVDK_\t379.2081611\tnoloss\t5\ty\t1\t545.3293389\t74.56643\t0.9\n",
    "2\t_DPLAVDK_\tDPLAVDK\t-15.0871\t_DPLAVDK_\t379.2081611\tnoloss\t6\ty\t2\t321.6946896\t51.50719\t0.9\n",
    "2\t_AVVVS[Phospho (STY)]PK_\tAVVVSPK\t-22.84974\t_AVVVS[Phospho (STY)]PK_\t390.2067795\tnoloss\t3\ty\t1\t411.1639269\t6.911595\t0.9\n",
    "2\t_AVVVS[Phospho (STY)]PK_\tAVVVSPK\t-22.84974\t_AVVVS[Phospho (STY)]PK_\t390.2067795\tH3PO4\t3\ty\t1\t313.1870287\t17.38582\t0.9\n",
    "2\t_AVVVS[Phospho (STY)]PK_\tAVVVSPK\t-22.84974\t_AVVVS[Phospho (STY)]PK_\t390.2067795\tnoloss\t4\ty\t1\t510.2323409\t10.65426\t0.9\n",
    "2\t_AVVVS[Phospho (STY)]PK_\tAVVVSPK\t-22.84974\t_AVVVS[Phospho (STY)]PK_\t390.2067795\tH3PO4\t4\ty\t1\t412.2554427\t37.41231\t0.9\n",
    "2\t_AVVVS[Phospho (STY)]PK_\tAVVVSPK\t-22.84974\t_AVVVS[Phospho (STY)]PK_\t390.2067795\tnoloss\t5\ty\t1\t609.3007548\t45.03617\t0.9\n",
    "2\t_AVVVS[Phospho (STY)]PK_\tAVVVSPK\t-22.84974\t_AVVVS[Phospho (STY)]PK_\t390.2067795\tH3PO4\t5\ty\t1\t511.3238566\t100\t0.9\n",
    "2\t_MGS[Phospho (STY)]LDSK_\tMGSLDSK\t-27.5635\t_MGS[Phospho (STY)]LDSK_\t409.1617118\tnoloss\t3\ty\t1\t349.1717756\t9.20575\t0.9\n",
    "2\t_MGS[Phospho (STY)]LDSK_\tMGSLDSK\t-27.5635\t_MGS[Phospho (STY)]LDSK_\t409.1617118\tnoloss\t6\ty\t1\t686.2756622\t10.37339\t0.9\n",
    "2\t_MGS[Phospho (STY)]LDSK_\tMGSLDSK\t-27.5635\t_MGS[Phospho (STY)]LDSK_\t409.1617118\tH3PO4\t6\ty\t1\t588.298764\t100\t0.9\n",
    "1\t_SVS[Phospho (STY)]FSLK_\tSVSFSLK\t35.01411\t_SVS[Phospho (STY)]FSLK_\t847.3961117\tnoloss\t3\ty\t1\t347.2288965\t88.27327\t0.9\n",
    "1\t_SVS[Phospho (STY)]FSLK_\tSVSFSLK\t35.01411\t_SVS[Phospho (STY)]FSLK_\t847.3961117\tH3PO4\t3\tb\t1\t256.1291795\t64.97146\t0.9\n",
    "1\t_SVS[Phospho (STY)]FSLK_\tSVSFSLK\t35.01411\t_SVS[Phospho (STY)]FSLK_\t847.3961117\tnoloss\t4\ty\t1\t494.2973105\t100\t0.9\n",
    "1\t_SVS[Phospho (STY)]FSLK_\tSVSFSLK\t35.01411\t_SVS[Phospho (STY)]FSLK_\t847.3961117\tH3PO4\t4\tb\t1\t403.1975934\t35.17805\t0.9\n",
    "1\t_SVS[Phospho (STY)]FSLK_\tSVSFSLK\t35.01411\t_SVS[Phospho (STY)]FSLK_\t847.3961117\tnoloss\t5\ty\t1\t661.2956694\t19.89741\t0.9\n",
    "1\t_SVS[Phospho (STY)]FSLK_\tSVSFSLK\t35.01411\t_SVS[Phospho (STY)]FSLK_\t847.3961117\tH3PO4\t5\tb\t1\t490.2296218\t40.04738\t0.9\n",
    "1\t_SVS[Phospho (STY)]FSLK_\tSVSFSLK\t35.01411\t_SVS[Phospho (STY)]FSLK_\t847.3961117\tH3PO4\t5\ty\t1\t563.3187712\t77.43164\t0.9\n",
    "1\t_SVS[Phospho (STY)]FSLK_\tSVSFSLK\t35.01411\t_SVS[Phospho (STY)]FSLK_\t847.3961117\tnoloss\t6\tb\t1\t701.290584\t24.43497\t0.9\n",
    "1\t_SVS[Phospho (STY)]FSLK_\tSVSFSLK\t35.01411\t_SVS[Phospho (STY)]FSLK_\t847.3961117\tH3PO4\t6\tb\t1\t603.3136858\t63.09999\t0.9\n",
    "1\t_SVS[Phospho (STY)]FSLK_\tSVSFSLK\t35.01411\t_SVS[Phospho (STY)]FSLK_\t847.3961117\t1(+H2+O)1(+H3+O4+P)\t3\tb\t1\t238.1186147\t62.60851\t0.9\n",
    "1\t_SVS[Phospho (STY)]FSLK_\tSVSFSLK\t35.01411\t_SVS[Phospho (STY)]FSLK_\t847.3961117\t1(+H2+O)1(+H3+O4+P)\t5\tb\t1\t472.219057\t22.99903\t0.9\n",
    "1\t_SVS[Phospho (STY)]FSLK_\tSVSFSLK\t35.01411\t_SVS[Phospho (STY)]FSLK_\t847.3961117\t1(+H2+O)1(+H3+O4+P)\t6\tb\t1\t585.303121\t66.30389\t0.9\n",
    "2\t_VS[Phospho (STY)]VS[Phospho (STY)]PGR_\tVSVSPGR\t-23.93085\t_VS[Phospho (STY)]VS[Phospho (STY)]PGR_\t431.1670009\tnoloss\t3\ty\t1\t329.1931797\t100\t0.9\n",
    "2\t_VS[Phospho (STY)]VS[Phospho (STY)]PGR_\tVSVSPGR\t-23.93085\t_VS[Phospho (STY)]VS[Phospho (STY)]PGR_\t431.1670009\tH3PO4\t3\tb\t1\t268.165565\t5.755442\t0.9\n",
    "2\t_VS[Phospho (STY)]VS[Phospho (STY)]PGR_\tVSVSPGR\t-23.93085\t_VS[Phospho (STY)]VS[Phospho (STY)]PGR_\t431.1670009\tnoloss\t4\tb\t2\t267.0740493\t8.743931\t0.9\n",
    "2\t_VS[Phospho (STY)]VS[Phospho (STY)]PGR_\tVSVSPGR\t-23.93085\t_VS[Phospho (STY)]VS[Phospho (STY)]PGR_\t431.1670009\tnoloss\t4\ty\t1\t496.1915387\t27.69686\t0.9\n",
    "2\t_VS[Phospho (STY)]VS[Phospho (STY)]PGR_\tVSVSPGR\t-23.93085\t_VS[Phospho (STY)]VS[Phospho (STY)]PGR_\t431.1670009\tH3PO4\t4\tb\t1\t435.1639239\t6.162673\t0.9\n",
    "2\t_VS[Phospho (STY)]VS[Phospho (STY)]PGR_\tVSVSPGR\t-23.93085\t_VS[Phospho (STY)]VS[Phospho (STY)]PGR_\t431.1670009\t2(+H3+O4+P)\t4\tb\t1\t337.1870258\t10.84257\t0.9\n",
    "2\t_VS[Phospho (STY)]VS[Phospho (STY)]PGR_\tVSVSPGR\t-23.93085\t_VS[Phospho (STY)]VS[Phospho (STY)]PGR_\t431.1670009\tH3PO4\t4\ty\t1\t398.2146405\t26.28527\t0.9\n",
    "2\t_VS[Phospho (STY)]VS[Phospho (STY)]PGR_\tVSVSPGR\t-23.93085\t_VS[Phospho (STY)]VS[Phospho (STY)]PGR_\t431.1670009\tH3PO4\t5\ty\t1\t497.2830544\t28.41294\t0.9\n",
    "2\t_VS[Phospho (STY)]VS[Phospho (STY)]PGR_\tVSVSPGR\t-23.93085\t_VS[Phospho (STY)]VS[Phospho (STY)]PGR_\t431.1670009\tnoloss\t6\ty\t1\t762.2583115\t8.490795\t0.9\n",
    "2\t_VS[Phospho (STY)]VS[Phospho (STY)]PGR_\tVSVSPGR\t-23.93085\t_VS[Phospho (STY)]VS[Phospho (STY)]PGR_\t431.1670009\tH3PO4\t6\ty\t1\t664.2814133\t32.87384\t0.9\n",
    "2\t_VS[Phospho (STY)]VS[Phospho (STY)]PGR_\tVSVSPGR\t-23.93085\t_VS[Phospho (STY)]VS[Phospho (STY)]PGR_\t431.1670009\t2(+H3+O4+P)\t6\ty\t1\t566.3045151\t35.87218\t0.9\n",
    "2\t_YSLS[Phospho (STY)]PSK_\tYSLSPSK\t-6.428198\t_YSLS[Phospho (STY)]PSK_\t431.1913264\tnoloss\t3\ty\t1\t331.1975964\t49.20179\t0.9\n",
    "2\t_YSLS[Phospho (STY)]PSK_\tYSLSPSK\t-6.428198\t_YSLS[Phospho (STY)]PSK_\t431.1913264\tnoloss\t4\ty\t1\t498.1959553\t10.89141\t0.9\n",
    "2\t_YSLS[Phospho (STY)]PSK_\tYSLSPSK\t-6.428198\t_YSLS[Phospho (STY)]PSK_\t431.1913264\tH3PO4\t4\ty\t1\t400.2190571\t27.99594\t0.9\n",
    "2\t_YSLS[Phospho (STY)]PSK_\tYSLSPSK\t-6.428198\t_YSLS[Phospho (STY)]PSK_\t431.1913264\tnoloss\t5\ty\t1\t611.2800193\t14.11057\t0.9\n",
    "2\t_YSLS[Phospho (STY)]PSK_\tYSLSPSK\t-6.428198\t_YSLS[Phospho (STY)]PSK_\t431.1913264\tH3PO4\t5\ty\t1\t513.3031211\t70.5295\t0.9\n",
    "2\t_YSLS[Phospho (STY)]PSK_\tYSLSPSK\t-6.428198\t_YSLS[Phospho (STY)]PSK_\t431.1913264\tnoloss\t6\ty\t1\t698.3120477\t60.23455\t0.9\n",
    "2\t_YSLS[Phospho (STY)]PSK_\tYSLSPSK\t-6.428198\t_YSLS[Phospho (STY)]PSK_\t431.1913264\tH3PO4\t6\ty\t1\t600.3351495\t100\t0.9\n",
    "2\t_YSLS[Phospho (STY)]PSK_\tYSLSPSK\t-6.428198\t_YSLS[Phospho (STY)]PSK_\t431.1913264\t1(+H2+O)1(+H3+O4+P)\t6\ty\t1\t582.3245847\t5.233977\t0.9\n",
    "\"\"\"\n",
    "\n",
    "mgr_settings = global_settings['model_mgr']\n",
    "mgr_settings['transfer']['psm_files'] = [StringIO(tsv_str)]\n",
    "mgr_settings['transfer']['psm_type'] = 'speclib_tsv'\n",
    "mgr_settings['transfer']['ms_file_type'] = 'speclib_tsv'\n",
    "mgr_settings['transfer']['epoch_ms2'] = 5\n",
    "mgr_settings['transfer']['warmup_epoch_ms2'] = 2\n",
    "mgr_settings['transfer']['epoch_rt_ccs'] = 5\n",
    "mgr_settings['transfer']['warmup_epoch_rt_ccs'] = 2\n",
    "transfer_learn()"
   ]
  },
  {
   "cell_type": "markdown",
   "metadata": {},
   "source": [
    "#### Test rescore"
   ]
  },
  {
   "cell_type": "code",
   "execution_count": null,
   "metadata": {},
   "outputs": [],
   "source": [
    "# from peptdeep.pipeline_api import rescore\n",
    "\n",
    "# alphapept_hdf = os.path.expanduser('~/Workspace/Data/HeLa_500ng/20201207_tims03_Evo03_PS_SA_HeLa_200ng_EvoSep_prot_DDA_21min_8cm_S1-C10_1_22476.ms_data.hdf')\n",
    "# perc_settings = global_settings['percolator']\n",
    "# perc_settings['input_files']['psm_files'] = [alphapept_hdf]\n",
    "# perc_settings['input_files']['psm_type'] = 'alphapept'\n",
    "# perc_settings['input_files']['ms_file_type'] = 'alphapept_hdf'\n",
    "# perc_settings['input_files']['ms_files'] = [alphapept_hdf]\n",
    "# perc_settings['require_model_tuning'] = False\n",
    "# perc_settings['percolator_iter_num'] = 1\n",
    "# perc_settings['multiprocessing'] = False\n",
    "\n",
    "# if False and os.path.isfile(alphapept_hdf):\n",
    "#     rescore()\n",
    "# else:\n",
    "#     print(\"`pipeline_api.rescore()` will be not tested\")"
   ]
  },
  {
   "cell_type": "code",
   "execution_count": null,
   "metadata": {},
   "outputs": [],
   "source": []
  }
 ],
 "metadata": {
  "kernelspec": {
   "display_name": "Python 3.8.3 ('base')",
   "language": "python",
   "name": "python3"
  }
 },
 "nbformat": 4,
 "nbformat_minor": 2
}
