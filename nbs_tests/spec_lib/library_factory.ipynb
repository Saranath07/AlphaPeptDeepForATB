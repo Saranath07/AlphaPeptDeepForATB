{
 "cells": [
  {
   "cell_type": "code",
   "execution_count": null,
   "metadata": {},
   "outputs": [],
   "source": [
    "#---#| default_exp spec_lib.library_factory"
   ]
  },
  {
   "cell_type": "markdown",
   "metadata": {},
   "source": [
    "# Library Factory"
   ]
  },
  {
   "cell_type": "markdown",
   "metadata": {},
   "source": [
    "Factory classes to predict libraries from different sources (input file format)"
   ]
  },
  {
   "cell_type": "code",
   "execution_count": null,
   "metadata": {},
   "outputs": [],
   "source": [
    "import torch # noqa: 401, to prevent crash in Mac Arm"
   ]
  },
  {
   "cell_type": "code",
   "execution_count": null,
   "metadata": {},
   "outputs": [],
   "source": [
    "from peptdeep.spec_lib.library_factory import *"
   ]
  },
  {
   "cell_type": "markdown",
   "metadata": {},
   "source": [
    "### Registered library makers"
   ]
  },
  {
   "cell_type": "code",
   "execution_count": null,
   "metadata": {},
   "outputs": [
    {
     "data": {
      "text/plain": [
       "{'precursor_table': __main__.PrecursorLibraryMaker,\n",
       " 'precursor_library': __main__.PrecursorLibraryMaker,\n",
       " 'peptide_table': __main__.PeptideLibraryMaker,\n",
       " 'peptide_library': __main__.PeptideLibraryMaker,\n",
       " 'sequence_table': __main__.SequenceLibraryMaker,\n",
       " 'sequence_library': __main__.SequenceLibraryMaker,\n",
       " 'fasta': __main__.FastaLibraryMaker,\n",
       " 'fasta_library': __main__.FastaLibraryMaker}"
      ]
     },
     "execution_count": null,
     "metadata": {},
     "output_type": "execute_result"
    }
   ],
   "source": [
    "library_maker_provider.library_maker_dict"
   ]
  },
  {
   "cell_type": "markdown",
   "metadata": {},
   "source": [
    "### Testing"
   ]
  },
  {
   "cell_type": "code",
   "execution_count": null,
   "metadata": {},
   "outputs": [],
   "source": [
    "from peptdeep.model.rt import irt_pep"
   ]
  },
  {
   "cell_type": "code",
   "execution_count": null,
   "metadata": {},
   "outputs": [
    {
     "name": "stdout",
     "output_type": "stream",
     "text": [
      "Device `gpu` is not available, set to `cpu`\n",
      "Device `gpu` is not available, set to `cpu`\n",
      "Device `gpu` is not available, set to `cpu`\n",
      "Device `gpu` is not available, set to `cpu`\n",
      "Device `gpu` is not available, set to `cpu`\n",
      "Device `gpu` is not available, set to `cpu`\n",
      "2022-09-08 23:30:55> Generating the library...\n",
      "2022-09-08 23:30:55> Calculating precursor isotope distributions ...\n",
      "2022-09-08 23:30:56> Predicting RT/IM/MS2 ...\n",
      "2022-09-08 23:30:56> Predicting RT ...\n"
     ]
    },
    {
     "name": "stderr",
     "output_type": "stream",
     "text": [
      "100%|██████████| 5/5 [00:00<00:00, 81.85it/s]"
     ]
    },
    {
     "name": "stdout",
     "output_type": "stream",
     "text": [
      "2022-09-08 23:30:56> Predicting mobility ...\n"
     ]
    },
    {
     "name": "stderr",
     "output_type": "stream",
     "text": [
      "\n",
      "100%|██████████| 5/5 [00:00<00:00, 90.21it/s]"
     ]
    },
    {
     "name": "stdout",
     "output_type": "stream",
     "text": [
      "2022-09-08 23:30:56> Predicting MS2 ...\n"
     ]
    },
    {
     "name": "stderr",
     "output_type": "stream",
     "text": [
      "\n",
      "100%|██████████| 5/5 [00:00<00:00, 30.79it/s]"
     ]
    },
    {
     "name": "stdout",
     "output_type": "stream",
     "text": [
      "2022-09-08 23:30:56> End Predicting RT/IM/MS2\n"
     ]
    },
    {
     "name": "stderr",
     "output_type": "stream",
     "text": [
      "\n"
     ]
    },
    {
     "name": "stdout",
     "output_type": "stream",
     "text": [
      "Device `gpu` is not available, set to `cpu`\n",
      "Device `gpu` is not available, set to `cpu`\n",
      "Device `gpu` is not available, set to `cpu`\n",
      "Device `gpu` is not available, set to `cpu`\n",
      "Device `gpu` is not available, set to `cpu`\n",
      "Device `gpu` is not available, set to `cpu`\n",
      "2022-09-08 23:30:59> Generating the library...\n",
      "2022-09-08 23:30:59> Calculating precursor isotope distributions ...\n",
      "2022-09-08 23:30:59> Predicting RT/IM/MS2 ...\n",
      "2022-09-08 23:30:59> Predicting RT ...\n"
     ]
    },
    {
     "name": "stderr",
     "output_type": "stream",
     "text": [
      "100%|██████████| 5/5 [00:00<00:00, 96.70it/s]"
     ]
    },
    {
     "name": "stdout",
     "output_type": "stream",
     "text": [
      "2022-09-08 23:30:59> Predicting mobility ...\n"
     ]
    },
    {
     "name": "stderr",
     "output_type": "stream",
     "text": [
      "\n",
      "100%|██████████| 5/5 [00:00<00:00, 92.94it/s]"
     ]
    },
    {
     "name": "stdout",
     "output_type": "stream",
     "text": [
      "2022-09-08 23:30:59> Predicting MS2 ...\n"
     ]
    },
    {
     "name": "stderr",
     "output_type": "stream",
     "text": [
      "\n",
      "100%|██████████| 5/5 [00:00<00:00, 32.09it/s]"
     ]
    },
    {
     "name": "stdout",
     "output_type": "stream",
     "text": [
      "2022-09-08 23:30:59> End Predicting RT/IM/MS2\n"
     ]
    },
    {
     "name": "stderr",
     "output_type": "stream",
     "text": [
      "\n"
     ]
    },
    {
     "data": {
      "text/html": [
       "<div>\n",
       "<style scoped>\n",
       "    .dataframe tbody tr th:only-of-type {\n",
       "        vertical-align: middle;\n",
       "    }\n",
       "\n",
       "    .dataframe tbody tr th {\n",
       "        vertical-align: top;\n",
       "    }\n",
       "\n",
       "    .dataframe thead th {\n",
       "        text-align: right;\n",
       "    }\n",
       "</style>\n",
       "<table border=\"1\" class=\"dataframe\">\n",
       "  <thead>\n",
       "    <tr style=\"text-align: right;\">\n",
       "      <th></th>\n",
       "      <th>sequence</th>\n",
       "      <th>pep_name</th>\n",
       "      <th>irt</th>\n",
       "      <th>mods</th>\n",
       "      <th>mod_sites</th>\n",
       "      <th>nAA</th>\n",
       "      <th>decoy</th>\n",
       "      <th>is_prot_nterm</th>\n",
       "      <th>is_prot_cterm</th>\n",
       "      <th>charge</th>\n",
       "      <th>...</th>\n",
       "      <th>isotope_apex_mz</th>\n",
       "      <th>isotope_right_most_mz</th>\n",
       "      <th>rt_pred</th>\n",
       "      <th>rt_norm_pred</th>\n",
       "      <th>ccs_pred</th>\n",
       "      <th>mobility_pred</th>\n",
       "      <th>frag_stop_idx</th>\n",
       "      <th>nce</th>\n",
       "      <th>instrument</th>\n",
       "      <th>frag_start_idx</th>\n",
       "    </tr>\n",
       "  </thead>\n",
       "  <tbody>\n",
       "    <tr>\n",
       "      <th>0</th>\n",
       "      <td>LGGNEQVTR</td>\n",
       "      <td>RT-pep a</td>\n",
       "      <td>-24.92</td>\n",
       "      <td></td>\n",
       "      <td></td>\n",
       "      <td>9</td>\n",
       "      <td>0</td>\n",
       "      <td>False</td>\n",
       "      <td>False</td>\n",
       "      <td>2</td>\n",
       "      <td>...</td>\n",
       "      <td>487.256705</td>\n",
       "      <td>487.758355</td>\n",
       "      <td>0.072804</td>\n",
       "      <td>0.072804</td>\n",
       "      <td>331.279816</td>\n",
       "      <td>0.815533</td>\n",
       "      <td>8</td>\n",
       "      <td>30.0</td>\n",
       "      <td>Lumos</td>\n",
       "      <td>0</td>\n",
       "    </tr>\n",
       "    <tr>\n",
       "      <th>1</th>\n",
       "      <td>LGGNEQVTR</td>\n",
       "      <td>RT-pep a</td>\n",
       "      <td>-24.92</td>\n",
       "      <td></td>\n",
       "      <td></td>\n",
       "      <td>9</td>\n",
       "      <td>0</td>\n",
       "      <td>False</td>\n",
       "      <td>False</td>\n",
       "      <td>3</td>\n",
       "      <td>...</td>\n",
       "      <td>325.173562</td>\n",
       "      <td>325.507996</td>\n",
       "      <td>0.072804</td>\n",
       "      <td>0.072804</td>\n",
       "      <td>382.416168</td>\n",
       "      <td>0.627622</td>\n",
       "      <td>16</td>\n",
       "      <td>30.0</td>\n",
       "      <td>Lumos</td>\n",
       "      <td>8</td>\n",
       "    </tr>\n",
       "    <tr>\n",
       "      <th>2</th>\n",
       "      <td>LGGNEQVTR</td>\n",
       "      <td>RT-pep a</td>\n",
       "      <td>-24.92</td>\n",
       "      <td></td>\n",
       "      <td></td>\n",
       "      <td>9</td>\n",
       "      <td>0</td>\n",
       "      <td>False</td>\n",
       "      <td>False</td>\n",
       "      <td>4</td>\n",
       "      <td>...</td>\n",
       "      <td>244.131991</td>\n",
       "      <td>244.382816</td>\n",
       "      <td>0.072804</td>\n",
       "      <td>0.072804</td>\n",
       "      <td>461.825714</td>\n",
       "      <td>0.568470</td>\n",
       "      <td>24</td>\n",
       "      <td>30.0</td>\n",
       "      <td>Lumos</td>\n",
       "      <td>16</td>\n",
       "    </tr>\n",
       "    <tr>\n",
       "      <th>3</th>\n",
       "      <td>TVQENGGLR</td>\n",
       "      <td>RT-pep a</td>\n",
       "      <td>-24.92</td>\n",
       "      <td></td>\n",
       "      <td></td>\n",
       "      <td>9</td>\n",
       "      <td>1</td>\n",
       "      <td>False</td>\n",
       "      <td>False</td>\n",
       "      <td>2</td>\n",
       "      <td>...</td>\n",
       "      <td>487.256705</td>\n",
       "      <td>487.758355</td>\n",
       "      <td>0.086820</td>\n",
       "      <td>0.086820</td>\n",
       "      <td>331.682037</td>\n",
       "      <td>0.816523</td>\n",
       "      <td>32</td>\n",
       "      <td>30.0</td>\n",
       "      <td>Lumos</td>\n",
       "      <td>24</td>\n",
       "    </tr>\n",
       "    <tr>\n",
       "      <th>4</th>\n",
       "      <td>TVQENGGLR</td>\n",
       "      <td>RT-pep a</td>\n",
       "      <td>-24.92</td>\n",
       "      <td></td>\n",
       "      <td></td>\n",
       "      <td>9</td>\n",
       "      <td>1</td>\n",
       "      <td>False</td>\n",
       "      <td>False</td>\n",
       "      <td>3</td>\n",
       "      <td>...</td>\n",
       "      <td>325.173562</td>\n",
       "      <td>325.507996</td>\n",
       "      <td>0.086820</td>\n",
       "      <td>0.086820</td>\n",
       "      <td>396.429779</td>\n",
       "      <td>0.650621</td>\n",
       "      <td>40</td>\n",
       "      <td>30.0</td>\n",
       "      <td>Lumos</td>\n",
       "      <td>32</td>\n",
       "    </tr>\n",
       "    <tr>\n",
       "      <th>...</th>\n",
       "      <td>...</td>\n",
       "      <td>...</td>\n",
       "      <td>...</td>\n",
       "      <td>...</td>\n",
       "      <td>...</td>\n",
       "      <td>...</td>\n",
       "      <td>...</td>\n",
       "      <td>...</td>\n",
       "      <td>...</td>\n",
       "      <td>...</td>\n",
       "      <td>...</td>\n",
       "      <td>...</td>\n",
       "      <td>...</td>\n",
       "      <td>...</td>\n",
       "      <td>...</td>\n",
       "      <td>...</td>\n",
       "      <td>...</td>\n",
       "      <td>...</td>\n",
       "      <td>...</td>\n",
       "      <td>...</td>\n",
       "      <td>...</td>\n",
       "    </tr>\n",
       "    <tr>\n",
       "      <th>61</th>\n",
       "      <td>ADLGTVPESSGAGK</td>\n",
       "      <td>RT-pep b</td>\n",
       "      <td>0.00</td>\n",
       "      <td></td>\n",
       "      <td></td>\n",
       "      <td>14</td>\n",
       "      <td>1</td>\n",
       "      <td>False</td>\n",
       "      <td>False</td>\n",
       "      <td>3</td>\n",
       "      <td>...</td>\n",
       "      <td>430.217496</td>\n",
       "      <td>430.886363</td>\n",
       "      <td>0.232995</td>\n",
       "      <td>0.232995</td>\n",
       "      <td>449.663818</td>\n",
       "      <td>0.740515</td>\n",
       "      <td>686</td>\n",
       "      <td>30.0</td>\n",
       "      <td>Lumos</td>\n",
       "      <td>673</td>\n",
       "    </tr>\n",
       "    <tr>\n",
       "      <th>62</th>\n",
       "      <td>ADLGTVPESSGAGK</td>\n",
       "      <td>RT-pep b</td>\n",
       "      <td>0.00</td>\n",
       "      <td></td>\n",
       "      <td></td>\n",
       "      <td>14</td>\n",
       "      <td>1</td>\n",
       "      <td>False</td>\n",
       "      <td>False</td>\n",
       "      <td>4</td>\n",
       "      <td>...</td>\n",
       "      <td>322.914941</td>\n",
       "      <td>323.416591</td>\n",
       "      <td>0.232995</td>\n",
       "      <td>0.232995</td>\n",
       "      <td>533.650513</td>\n",
       "      <td>0.659125</td>\n",
       "      <td>699</td>\n",
       "      <td>30.0</td>\n",
       "      <td>Lumos</td>\n",
       "      <td>686</td>\n",
       "    </tr>\n",
       "    <tr>\n",
       "      <th>63</th>\n",
       "      <td>LFPSGQAGFQLFLK</td>\n",
       "      <td>RT-pep l</td>\n",
       "      <td>100.00</td>\n",
       "      <td></td>\n",
       "      <td></td>\n",
       "      <td>14</td>\n",
       "      <td>1</td>\n",
       "      <td>False</td>\n",
       "      <td>False</td>\n",
       "      <td>2</td>\n",
       "      <td>...</td>\n",
       "      <td>776.929751</td>\n",
       "      <td>777.933051</td>\n",
       "      <td>0.860533</td>\n",
       "      <td>0.860533</td>\n",
       "      <td>432.605652</td>\n",
       "      <td>1.070562</td>\n",
       "      <td>712</td>\n",
       "      <td>30.0</td>\n",
       "      <td>Lumos</td>\n",
       "      <td>699</td>\n",
       "    </tr>\n",
       "    <tr>\n",
       "      <th>64</th>\n",
       "      <td>LFPSGQAGFQLFLK</td>\n",
       "      <td>RT-pep l</td>\n",
       "      <td>100.00</td>\n",
       "      <td></td>\n",
       "      <td></td>\n",
       "      <td>14</td>\n",
       "      <td>1</td>\n",
       "      <td>False</td>\n",
       "      <td>False</td>\n",
       "      <td>3</td>\n",
       "      <td>...</td>\n",
       "      <td>518.288926</td>\n",
       "      <td>518.957793</td>\n",
       "      <td>0.860533</td>\n",
       "      <td>0.860533</td>\n",
       "      <td>501.384583</td>\n",
       "      <td>0.827184</td>\n",
       "      <td>725</td>\n",
       "      <td>30.0</td>\n",
       "      <td>Lumos</td>\n",
       "      <td>712</td>\n",
       "    </tr>\n",
       "    <tr>\n",
       "      <th>65</th>\n",
       "      <td>LFPSGQAGFQLFLK</td>\n",
       "      <td>RT-pep l</td>\n",
       "      <td>100.00</td>\n",
       "      <td></td>\n",
       "      <td></td>\n",
       "      <td>14</td>\n",
       "      <td>1</td>\n",
       "      <td>False</td>\n",
       "      <td>False</td>\n",
       "      <td>4</td>\n",
       "      <td>...</td>\n",
       "      <td>388.968514</td>\n",
       "      <td>389.470164</td>\n",
       "      <td>0.860533</td>\n",
       "      <td>0.860533</td>\n",
       "      <td>606.981262</td>\n",
       "      <td>0.751052</td>\n",
       "      <td>738</td>\n",
       "      <td>30.0</td>\n",
       "      <td>Lumos</td>\n",
       "      <td>725</td>\n",
       "    </tr>\n",
       "  </tbody>\n",
       "</table>\n",
       "<p>66 rows × 27 columns</p>\n",
       "</div>"
      ],
      "text/plain": [
       "          sequence  pep_name     irt mods mod_sites  nAA  decoy  \\\n",
       "0        LGGNEQVTR  RT-pep a  -24.92                   9      0   \n",
       "1        LGGNEQVTR  RT-pep a  -24.92                   9      0   \n",
       "2        LGGNEQVTR  RT-pep a  -24.92                   9      0   \n",
       "3        TVQENGGLR  RT-pep a  -24.92                   9      1   \n",
       "4        TVQENGGLR  RT-pep a  -24.92                   9      1   \n",
       "..             ...       ...     ...  ...       ...  ...    ...   \n",
       "61  ADLGTVPESSGAGK  RT-pep b    0.00                  14      1   \n",
       "62  ADLGTVPESSGAGK  RT-pep b    0.00                  14      1   \n",
       "63  LFPSGQAGFQLFLK  RT-pep l  100.00                  14      1   \n",
       "64  LFPSGQAGFQLFLK  RT-pep l  100.00                  14      1   \n",
       "65  LFPSGQAGFQLFLK  RT-pep l  100.00                  14      1   \n",
       "\n",
       "    is_prot_nterm  is_prot_cterm  charge  ...  isotope_apex_mz  \\\n",
       "0           False          False       2  ...       487.256705   \n",
       "1           False          False       3  ...       325.173562   \n",
       "2           False          False       4  ...       244.131991   \n",
       "3           False          False       2  ...       487.256705   \n",
       "4           False          False       3  ...       325.173562   \n",
       "..            ...            ...     ...  ...              ...   \n",
       "61          False          False       3  ...       430.217496   \n",
       "62          False          False       4  ...       322.914941   \n",
       "63          False          False       2  ...       776.929751   \n",
       "64          False          False       3  ...       518.288926   \n",
       "65          False          False       4  ...       388.968514   \n",
       "\n",
       "    isotope_right_most_mz   rt_pred  rt_norm_pred    ccs_pred  mobility_pred  \\\n",
       "0              487.758355  0.072804      0.072804  331.279816       0.815533   \n",
       "1              325.507996  0.072804      0.072804  382.416168       0.627622   \n",
       "2              244.382816  0.072804      0.072804  461.825714       0.568470   \n",
       "3              487.758355  0.086820      0.086820  331.682037       0.816523   \n",
       "4              325.507996  0.086820      0.086820  396.429779       0.650621   \n",
       "..                    ...       ...           ...         ...            ...   \n",
       "61             430.886363  0.232995      0.232995  449.663818       0.740515   \n",
       "62             323.416591  0.232995      0.232995  533.650513       0.659125   \n",
       "63             777.933051  0.860533      0.860533  432.605652       1.070562   \n",
       "64             518.957793  0.860533      0.860533  501.384583       0.827184   \n",
       "65             389.470164  0.860533      0.860533  606.981262       0.751052   \n",
       "\n",
       "    frag_stop_idx   nce  instrument  frag_start_idx  \n",
       "0              8  30.0       Lumos               0  \n",
       "1             16  30.0       Lumos               8  \n",
       "2             24  30.0       Lumos              16  \n",
       "3             32  30.0       Lumos              24  \n",
       "4             40  30.0       Lumos              32  \n",
       "..           ...   ...         ...             ...  \n",
       "61           686  30.0       Lumos             673  \n",
       "62           699  30.0       Lumos             686  \n",
       "63           712  30.0       Lumos             699  \n",
       "64           725  30.0       Lumos             712  \n",
       "65           738  30.0       Lumos             725  \n",
       "\n",
       "[66 rows x 27 columns]"
      ]
     },
     "execution_count": null,
     "metadata": {},
     "output_type": "execute_result"
    }
   ],
   "source": [
    "\n",
    "lib_maker = library_maker_provider.get_maker('peptide_table')\n",
    "lib_maker.make_library(irt_pep.copy())\n",
    "\n",
    "lib_maker = library_maker_provider.get_maker('sequence_table')\n",
    "lib_maker.make_library(irt_pep.copy())\n",
    "lib_maker.precursor_df"
   ]
  },
  {
   "cell_type": "code",
   "execution_count": null,
   "metadata": {},
   "outputs": [
    {
     "name": "stdout",
     "output_type": "stream",
     "text": [
      "Device `gpu` is not available, set to `cpu`\n",
      "Device `gpu` is not available, set to `cpu`\n",
      "Device `gpu` is not available, set to `cpu`\n",
      "Device `gpu` is not available, set to `cpu`\n",
      "Device `gpu` is not available, set to `cpu`\n",
      "Device `gpu` is not available, set to `cpu`\n",
      "2022-09-08 23:31:02> Generating the library...\n"
     ]
    }
   ],
   "source": [
    "#| hide\n",
    "lib_maker = library_maker_provider.get_maker('precursor_table')\n",
    "try:\n",
    "    lib_maker.make_library(irt_pep.copy())\n",
    "except KeyError as e:\n",
    "    assert 'must contain the \"charge\" column' in str(e)"
   ]
  },
  {
   "cell_type": "code",
   "execution_count": null,
   "metadata": {},
   "outputs": [],
   "source": []
  }
 ],
 "metadata": {
  "kernelspec": {
   "display_name": "Python 3.8.3 ('base')",
   "language": "python",
   "name": "python3"
  }
 },
 "nbformat": 4,
 "nbformat_minor": 2
}
