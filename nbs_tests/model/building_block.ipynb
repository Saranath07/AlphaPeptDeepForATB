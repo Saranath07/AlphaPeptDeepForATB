{
 "cells": [
  {
   "cell_type": "code",
   "execution_count": null,
   "metadata": {},
   "outputs": [],
   "source": [
    "#---#| default_exp model.building_block"
   ]
  },
  {
   "cell_type": "markdown",
   "metadata": {},
   "source": [
    "# NN Building Block"
   ]
  },
  {
   "cell_type": "markdown",
   "metadata": {},
   "source": [
    "## Description\n",
    "The building block module specifies the architectures of the core neural networks used in PeptDeep.\n",
    "\n",
    "All networks are based on the [PyTorch]('https://pytorch.org/') package by subclassing `torch.nn.Module`, which is the base class for all neural networks. To implement the Transformer-network, the HuggingFace [transformers]('https://huggingface.co/docs/transformers/') package is used, which allows to specify transformer networks in Pytorch.\n",
    "\n"
   ]
  }
 ],
 "metadata": {
  "kernelspec": {
   "display_name": "Python 3.8.3 ('base')",
   "language": "python",
   "name": "python3"
  }
 },
 "nbformat": 4,
 "nbformat_minor": 2
}
