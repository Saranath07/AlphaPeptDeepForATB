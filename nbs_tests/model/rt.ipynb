{
 "cells": [
  {
   "cell_type": "code",
   "execution_count": null,
   "metadata": {},
   "outputs": [],
   "source": [
    "#---#| default_exp model.rt"
   ]
  },
  {
   "cell_type": "code",
   "execution_count": null,
   "metadata": {},
   "outputs": [],
   "source": [
    "%reload_ext autoreload\n",
    "%autoreload 2"
   ]
  },
  {
   "cell_type": "markdown",
   "metadata": {},
   "source": [
    "# Retention Time Prediction\n",
    "\n",
    "This notebook implements deep learning models to predict the retention time of a given (modified) peptide. The components of the models are defined in the `building_block.ipynb` notebook. It is based on the interface defined in `model_interface.ipynb`, which defines standard interactions, such as loading data and training the model."
   ]
  },
  {
   "cell_type": "markdown",
   "metadata": {},
   "source": [
    "## Imports"
   ]
  },
  {
   "cell_type": "code",
   "execution_count": null,
   "metadata": {},
   "outputs": [],
   "source": [
    "from peptdeep.model.rt import *"
   ]
  },
  {
   "cell_type": "markdown",
   "metadata": {},
   "source": [
    "## Unit Tests"
   ]
  },
  {
   "cell_type": "markdown",
   "metadata": {},
   "source": [
    "### Sanity checks on simple cases"
   ]
  },
  {
   "cell_type": "code",
   "execution_count": null,
   "metadata": {},
   "outputs": [
    {
     "name": "stderr",
     "output_type": "stream",
     "text": [
      "Epoch=1, nAA=11, batch=1, loss=0.5976: 100%|██████████| 1/1 [00:00<00:00, 16.27it/s]\n",
      "Epoch=2, nAA=11, batch=1, loss=0.5916: 100%|██████████| 1/1 [00:00<00:00, 23.82it/s]\n",
      "Epoch=3, nAA=11, batch=1, loss=0.5859: 100%|██████████| 1/1 [00:00<00:00, 22.64it/s]\n",
      "Epoch=4, nAA=11, batch=1, loss=0.5779: 100%|██████████| 1/1 [00:00<00:00, 25.14it/s]\n",
      "Epoch=5, nAA=11, batch=1, loss=0.5764: 100%|██████████| 1/1 [00:00<00:00,  9.01it/s]"
     ]
    },
    {
     "name": "stdout",
     "output_type": "stream",
     "text": [
      "Model_RT_LSTM_CNN(\n",
      "  (dropout): Dropout(p=0.1, inplace=False)\n",
      "  (rt_encoder): Encoder_26AA_Mod_CNN_LSTM_AttnSum(\n",
      "    (mod_nn): Mod_Embedding_FixFirstK(\n",
      "      (nn): Linear(in_features=103, out_features=2, bias=False)\n",
      "    )\n",
      "    (input_cnn): SeqCNN(\n",
      "      (cnn_short): Conv1d(35, 35, kernel_size=(3,), stride=(1,), padding=(1,))\n",
      "      (cnn_medium): Conv1d(35, 35, kernel_size=(5,), stride=(1,), padding=(2,))\n",
      "      (cnn_long): Conv1d(35, 35, kernel_size=(7,), stride=(1,), padding=(3,))\n",
      "    )\n",
      "    (hidden_nn): SeqLSTM(\n",
      "      (rnn): LSTM(140, 128, num_layers=2, batch_first=True, bidirectional=True)\n",
      "    )\n",
      "    (attn_sum): SeqAttentionSum(\n",
      "      (attn): Sequential(\n",
      "        (0): Linear(in_features=256, out_features=1, bias=False)\n",
      "        (1): Softmax(dim=1)\n",
      "      )\n",
      "    )\n",
      "  )\n",
      "  (rt_decoder): Decoder_Linear(\n",
      "    (nn): Sequential(\n",
      "      (0): Linear(in_features=256, out_features=64, bias=True)\n",
      "      (1): PReLU(num_parameters=1)\n",
      "      (2): Linear(in_features=64, out_features=1, bias=True)\n",
      "    )\n",
      "  )\n",
      ")\n",
      "708224\n"
     ]
    },
    {
     "name": "stderr",
     "output_type": "stream",
     "text": [
      "\n"
     ]
    }
   ],
   "source": [
    "#| hide\n",
    "def initialize_model():\n",
    "\n",
    "    torch.manual_seed(1337)\n",
    "    model = AlphaRTModel()\n",
    "    model.set_device('cpu')\n",
    "    model.model.to(model.device)\n",
    "    mod_hidden = len(model_const['mod_elements'])\n",
    "    model.model(torch.LongTensor([[1,2,3,4,5,6]]), torch.tensor([[[0.0]*mod_hidden]*6]))\n",
    "    return model\n",
    "\n",
    "model = initialize_model()\n",
    "\n",
    "def create_test_dataframe_with_identical_rows(nrows = 10):\n",
    "    precursor_df = pd.DataFrame({\n",
    "        'sequence': ['AGHCEWQMKYR']*nrows,\n",
    "        'mods': ['Acetyl@Protein_N-term;Carbamidomethyl@C;Oxidation@M']*nrows,\n",
    "        'mod_sites': ['0;4;8']*nrows,\n",
    "        'nAA': [11]*nrows,\n",
    "        'rt_norm': [0.6]*nrows\n",
    "    })\n",
    "    return precursor_df\n",
    "\n",
    "repeat_row_df = create_test_dataframe_with_identical_rows()\n",
    "\n",
    "model.train(repeat_row_df, epoch=5, verbose_each_epoch=True)\n",
    "\n",
    "print(model.get_parameter_num())\n",
    "\n",
    "def test_prediction():\n",
    "    model = initialize_model()\n",
    "    repeat_row_df_predict = model.predict(repeat_row_df)\n",
    "    display(repeat_row_df_predict)\n",
    "    pred_rts = list(repeat_row_df_predict[\"rt_pred\"])\n",
    "    first_pred_rt = pred_rts[0]\n",
    "    control_array = [first_pred_rt for x in range(len(pred_rts))]\n",
    "    np.testing.assert_almost_equal(pred_rts, control_array)\n",
    "test_prediction()"
   ]
  },
  {
   "cell_type": "code",
   "execution_count": null,
   "metadata": {},
   "outputs": [],
   "source": [
    "#|hide\n",
    "from peptdeep.pretrained_models import ModelManager"
   ]
  },
  {
   "cell_type": "code",
   "execution_count": null,
   "metadata": {},
   "outputs": [
    {
     "data": {
      "text/html": [
       "<div>\n",
       "<style scoped>\n",
       "    .dataframe tbody tr th:only-of-type {\n",
       "        vertical-align: middle;\n",
       "    }\n",
       "\n",
       "    .dataframe tbody tr th {\n",
       "        vertical-align: top;\n",
       "    }\n",
       "\n",
       "    .dataframe thead th {\n",
       "        text-align: right;\n",
       "    }\n",
       "</style>\n",
       "<table border=\"1\" class=\"dataframe\">\n",
       "  <thead>\n",
       "    <tr style=\"text-align: right;\">\n",
       "      <th></th>\n",
       "      <th>sequence</th>\n",
       "      <th>pep_name</th>\n",
       "      <th>irt</th>\n",
       "      <th>mods</th>\n",
       "      <th>mod_sites</th>\n",
       "      <th>nAA</th>\n",
       "      <th>rt_pred</th>\n",
       "      <th>irt_pred</th>\n",
       "    </tr>\n",
       "  </thead>\n",
       "  <tbody>\n",
       "    <tr>\n",
       "      <th>0</th>\n",
       "      <td>LGGNEQVTR</td>\n",
       "      <td>RT-pep a</td>\n",
       "      <td>-24.92</td>\n",
       "      <td></td>\n",
       "      <td></td>\n",
       "      <td>9</td>\n",
       "      <td>0.072804</td>\n",
       "      <td>-28.148849</td>\n",
       "    </tr>\n",
       "    <tr>\n",
       "      <th>1</th>\n",
       "      <td>GAGSSEPVTGLDAK</td>\n",
       "      <td>RT-pep b</td>\n",
       "      <td>0.00</td>\n",
       "      <td></td>\n",
       "      <td></td>\n",
       "      <td>14</td>\n",
       "      <td>0.271196</td>\n",
       "      <td>2.053492</td>\n",
       "    </tr>\n",
       "    <tr>\n",
       "      <th>2</th>\n",
       "      <td>VEATFGVDESNAK</td>\n",
       "      <td>RT-pep c</td>\n",
       "      <td>12.39</td>\n",
       "      <td></td>\n",
       "      <td></td>\n",
       "      <td>13</td>\n",
       "      <td>0.332649</td>\n",
       "      <td>11.408902</td>\n",
       "    </tr>\n",
       "    <tr>\n",
       "      <th>3</th>\n",
       "      <td>YILAGVENSK</td>\n",
       "      <td>RT-pep d</td>\n",
       "      <td>19.79</td>\n",
       "      <td></td>\n",
       "      <td></td>\n",
       "      <td>10</td>\n",
       "      <td>0.400949</td>\n",
       "      <td>21.806524</td>\n",
       "    </tr>\n",
       "    <tr>\n",
       "      <th>4</th>\n",
       "      <td>TPVISGGPYEYR</td>\n",
       "      <td>RT-pep e</td>\n",
       "      <td>28.71</td>\n",
       "      <td></td>\n",
       "      <td></td>\n",
       "      <td>12</td>\n",
       "      <td>0.438901</td>\n",
       "      <td>27.584271</td>\n",
       "    </tr>\n",
       "    <tr>\n",
       "      <th>5</th>\n",
       "      <td>TPVITGAPYEYR</td>\n",
       "      <td>RT-pep f</td>\n",
       "      <td>33.38</td>\n",
       "      <td></td>\n",
       "      <td></td>\n",
       "      <td>12</td>\n",
       "      <td>0.489774</td>\n",
       "      <td>35.328937</td>\n",
       "    </tr>\n",
       "    <tr>\n",
       "      <th>6</th>\n",
       "      <td>DGLDAASYYAPVR</td>\n",
       "      <td>RT-pep g</td>\n",
       "      <td>42.26</td>\n",
       "      <td></td>\n",
       "      <td></td>\n",
       "      <td>13</td>\n",
       "      <td>0.542729</td>\n",
       "      <td>43.390475</td>\n",
       "    </tr>\n",
       "    <tr>\n",
       "      <th>7</th>\n",
       "      <td>ADVTPADFSEWSK</td>\n",
       "      <td>RT-pep h</td>\n",
       "      <td>54.62</td>\n",
       "      <td></td>\n",
       "      <td></td>\n",
       "      <td>13</td>\n",
       "      <td>0.609782</td>\n",
       "      <td>53.598396</td>\n",
       "    </tr>\n",
       "    <tr>\n",
       "      <th>8</th>\n",
       "      <td>GTFIIDPGGVIR</td>\n",
       "      <td>RT-pep i</td>\n",
       "      <td>70.52</td>\n",
       "      <td></td>\n",
       "      <td></td>\n",
       "      <td>12</td>\n",
       "      <td>0.757164</td>\n",
       "      <td>76.035216</td>\n",
       "    </tr>\n",
       "    <tr>\n",
       "      <th>9</th>\n",
       "      <td>GTFIIDPAAVIR</td>\n",
       "      <td>RT-pep k</td>\n",
       "      <td>87.23</td>\n",
       "      <td></td>\n",
       "      <td></td>\n",
       "      <td>12</td>\n",
       "      <td>0.846791</td>\n",
       "      <td>89.679588</td>\n",
       "    </tr>\n",
       "    <tr>\n",
       "      <th>10</th>\n",
       "      <td>LFLQFGAQGSPFLK</td>\n",
       "      <td>RT-pep l</td>\n",
       "      <td>100.00</td>\n",
       "      <td></td>\n",
       "      <td></td>\n",
       "      <td>14</td>\n",
       "      <td>0.857061</td>\n",
       "      <td>91.243048</td>\n",
       "    </tr>\n",
       "  </tbody>\n",
       "</table>\n",
       "</div>"
      ],
      "text/plain": [
       "          sequence  pep_name     irt mods mod_sites  nAA   rt_pred   irt_pred\n",
       "0        LGGNEQVTR  RT-pep a  -24.92                   9  0.072804 -28.148849\n",
       "1   GAGSSEPVTGLDAK  RT-pep b    0.00                  14  0.271196   2.053492\n",
       "2    VEATFGVDESNAK  RT-pep c   12.39                  13  0.332649  11.408902\n",
       "3       YILAGVENSK  RT-pep d   19.79                  10  0.400949  21.806524\n",
       "4     TPVISGGPYEYR  RT-pep e   28.71                  12  0.438901  27.584271\n",
       "5     TPVITGAPYEYR  RT-pep f   33.38                  12  0.489774  35.328937\n",
       "6    DGLDAASYYAPVR  RT-pep g   42.26                  13  0.542729  43.390475\n",
       "7    ADVTPADFSEWSK  RT-pep h   54.62                  13  0.609782  53.598396\n",
       "8     GTFIIDPGGVIR  RT-pep i   70.52                  12  0.757164  76.035216\n",
       "9     GTFIIDPAAVIR  RT-pep k   87.23                  12  0.846791  89.679588\n",
       "10  LFLQFGAQGSPFLK  RT-pep l  100.00                  14  0.857061  91.243048"
      ]
     },
     "execution_count": null,
     "metadata": {},
     "output_type": "execute_result"
    }
   ],
   "source": [
    "#| hide\n",
    "models = ModelManager(device='cpu')\n",
    "models.load_installed_models()\n",
    "pep_df = IRT_PEPTIDE_DF.iloc[:7].drop(columns=['irt'])\n",
    "df_w_rt_prediction = models.rt_model.predict(pep_df)\n",
    "df_w_irt_prediction_added = models.rt_model.add_irt_column_to_precursor_df(pep_df)\n",
    "\n",
    "assert df_w_irt_prediction_added.rt_pred.is_monotonic_increasing\n",
    "assert df_w_irt_prediction_added.irt_pred.is_monotonic_increasing\n",
    "df_w_rt_prediction = models.rt_model.predict(IRT_PEPTIDE_DF)\n",
    "models.rt_model.add_irt_column_to_precursor_df(IRT_PEPTIDE_DF)"
   ]
  },
  {
   "cell_type": "code",
   "execution_count": null,
   "metadata": {},
   "outputs": [],
   "source": [
    "#|hide\n",
    "from peptdeep.utils import evaluate_linear_regression"
   ]
  },
  {
   "cell_type": "code",
   "execution_count": null,
   "metadata": {},
   "outputs": [
    {
     "name": "stderr",
     "output_type": "stream",
     "text": [
      "/Users/zengwenfeng/opt/anaconda3/lib/python3.8/site-packages/statsmodels/tsa/tsatools.py:130: FutureWarning: In a future version of pandas all arguments of concat except for the argument 'objs' will be keyword-only\n",
      "  x = pd.concat(x[::order], 1)\n",
      "/Users/zengwenfeng/opt/anaconda3/lib/python3.8/site-packages/scipy/stats/stats.py:1541: UserWarning: kurtosistest only valid for n>=20 ... continuing anyway, n=11\n",
      "  warnings.warn(\"kurtosistest only valid for n>=20 ... continuing \"\n"
     ]
    },
    {
     "data": {
      "text/html": [
       "<div>\n",
       "<style scoped>\n",
       "    .dataframe tbody tr th:only-of-type {\n",
       "        vertical-align: middle;\n",
       "    }\n",
       "\n",
       "    .dataframe tbody tr th {\n",
       "        vertical-align: top;\n",
       "    }\n",
       "\n",
       "    .dataframe thead th {\n",
       "        text-align: right;\n",
       "    }\n",
       "</style>\n",
       "<table border=\"1\" class=\"dataframe\">\n",
       "  <thead>\n",
       "    <tr style=\"text-align: right;\">\n",
       "      <th></th>\n",
       "      <th>R_square</th>\n",
       "      <th>R</th>\n",
       "      <th>slope</th>\n",
       "      <th>intercept</th>\n",
       "      <th>test_num</th>\n",
       "    </tr>\n",
       "  </thead>\n",
       "  <tbody>\n",
       "    <tr>\n",
       "      <th>0</th>\n",
       "      <td>0.99</td>\n",
       "      <td>0.994987</td>\n",
       "      <td>0.9901</td>\n",
       "      <td>0.3828</td>\n",
       "      <td>11.0</td>\n",
       "    </tr>\n",
       "  </tbody>\n",
       "</table>\n",
       "</div>"
      ],
      "text/plain": [
       "   R_square         R   slope  intercept  test_num\n",
       "0      0.99  0.994987  0.9901     0.3828      11.0"
      ]
     },
     "execution_count": null,
     "metadata": {},
     "output_type": "execute_result"
    }
   ],
   "source": [
    "#| hide\n",
    "evaluate_linear_regression(IRT_PEPTIDE_DF, 'irt', 'irt_pred')"
   ]
  },
  {
   "cell_type": "code",
   "execution_count": null,
   "metadata": {},
   "outputs": [],
   "source": []
  }
 ],
 "metadata": {
  "kernelspec": {
   "display_name": "Python 3.8.3 ('base')",
   "language": "python",
   "name": "python3"
  }
 },
 "nbformat": 4,
 "nbformat_minor": 2
}
