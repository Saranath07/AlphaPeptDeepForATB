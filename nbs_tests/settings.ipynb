{
 "cells": [
  {
   "cell_type": "code",
   "execution_count": null,
   "metadata": {},
   "outputs": [],
   "source": [
    "#---#| default_exp settings"
   ]
  },
  {
   "cell_type": "markdown",
   "metadata": {},
   "source": [
    "# Settings"
   ]
  },
  {
   "cell_type": "markdown",
   "metadata": {},
   "source": [
    "All global settings for peptdeep"
   ]
  },
  {
   "cell_type": "code",
   "execution_count": null,
   "metadata": {},
   "outputs": [],
   "source": [
    "from peptdeep.settings import *"
   ]
  },
  {
   "cell_type": "code",
   "execution_count": null,
   "metadata": {},
   "outputs": [
    {
     "data": {
      "text/plain": [
       "{'ThermoTOF': 'ThermoTOF',\n",
       " 'Astral': 'ThermoTOF',\n",
       " 'Lumos': 'Lumos',\n",
       " 'QE': 'QE',\n",
       " 'timsTOF': 'timsTOF',\n",
       " 'SciexTOF': 'SciexTOF',\n",
       " 'Fusion': 'Lumos',\n",
       " 'Eclipse': 'Lumos',\n",
       " 'Velos': 'Lumos',\n",
       " 'Elite': 'Lumos',\n",
       " 'OrbitrapTribrid': 'Lumos',\n",
       " 'ThermoTribrid': 'Lumos',\n",
       " 'QE+': 'QE',\n",
       " 'QEHF': 'QE',\n",
       " 'QEHFX': 'QE',\n",
       " 'Exploris': 'QE',\n",
       " 'Exploris480': 'QE',\n",
       " 'THERMOTOF': 'ThermoTOF',\n",
       " 'ASTRAL': 'ThermoTOF',\n",
       " 'LUMOS': 'Lumos',\n",
       " 'TIMSTOF': 'timsTOF',\n",
       " 'SCIEXTOF': 'SciexTOF',\n",
       " 'FUSION': 'Lumos',\n",
       " 'ECLIPSE': 'Lumos',\n",
       " 'VELOS': 'Lumos',\n",
       " 'ELITE': 'Lumos',\n",
       " 'ORBITRAPTRIBRID': 'Lumos',\n",
       " 'THERMOTRIBRID': 'Lumos',\n",
       " 'EXPLORIS': 'QE',\n",
       " 'EXPLORIS480': 'QE'}"
      ]
     },
     "execution_count": null,
     "metadata": {},
     "output_type": "execute_result"
    }
   ],
   "source": [
    "#| hide\n",
    "global_settings['model_mgr'][\n",
    "    'instrument_group'\n",
    "]"
   ]
  },
  {
   "cell_type": "code",
   "execution_count": null,
   "metadata": {},
   "outputs": [],
   "source": [
    "add_user_defined_modifications({\n",
    "    \"Hi@S\":{'composition':\"H(2)\"},\n",
    "    \"AlphaX@S\":{'composition':\"O(10)\",'modloss_composition':\"O(3)\"}\n",
    "})\n",
    "assert 'Hi@S' in MOD_DF.mod_name\n",
    "assert 'Hi@S' in MOD_TO_FEATURE\n",
    "assert 'AlphaX@S' in MOD_TO_FEATURE"
   ]
  },
  {
   "cell_type": "code",
   "execution_count": null,
   "metadata": {},
   "outputs": [],
   "source": []
  }
 ],
 "metadata": {
  "kernelspec": {
   "display_name": "Python 3.8.3 ('base')",
   "language": "python",
   "name": "python3"
  }
 },
 "nbformat": 4,
 "nbformat_minor": 2
}
