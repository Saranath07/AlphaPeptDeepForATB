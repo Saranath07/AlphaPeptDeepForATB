{
 "cells": [
  {
   "cell_type": "code",
   "execution_count": null,
   "metadata": {},
   "outputs": [],
   "source": [
    "#---#| default_exp utils"
   ]
  },
  {
   "cell_type": "markdown",
   "metadata": {},
   "source": [
    "# Utils"
   ]
  },
  {
   "cell_type": "code",
   "execution_count": null,
   "metadata": {},
   "outputs": [],
   "source": [
    "from peptdeep.utils import *"
   ]
  },
  {
   "cell_type": "markdown",
   "metadata": {},
   "source": [
    "### Supported devices in peptdeep"
   ]
  },
  {
   "cell_type": "code",
   "execution_count": null,
   "metadata": {},
   "outputs": [
    {
     "data": {
      "text/plain": [
       "(device(type='cpu'), 'cpu')"
      ]
     },
     "execution_count": null,
     "metadata": {},
     "output_type": "execute_result"
    }
   ],
   "source": [
    "get_device('cuda')"
   ]
  },
  {
   "cell_type": "code",
   "execution_count": null,
   "metadata": {},
   "outputs": [
    {
     "data": {
      "text/plain": [
       "{'gpu': {'is_available': <function torch.cuda.is_available() -> bool>,\n",
       "  'device': 'cuda'},\n",
       " 'cuda': {'is_available': <function torch.cuda.is_available() -> bool>,\n",
       "  'device': 'cuda'},\n",
       " 'mps': {'is_available': <function peptdeep.utils._is_mps_available() -> bool>,\n",
       "  'device': 'mps'},\n",
       " 'm1': {'is_available': <function peptdeep.utils._is_mps_available() -> bool>,\n",
       "  'device': 'mps'}}"
      ]
     },
     "execution_count": null,
     "metadata": {},
     "output_type": "execute_result"
    }
   ],
   "source": [
    "torch_devices"
   ]
  },
  {
   "cell_type": "markdown",
   "metadata": {},
   "source": [
    "## Plotting functions"
   ]
  },
  {
   "cell_type": "code",
   "execution_count": null,
   "metadata": {},
   "outputs": [],
   "source": [
    "from peptdeep.utils import parse_ms_file_names_to_dict\n",
    "\n",
    "d = parse_ms_file_names_to_dict([\n",
    "    'a.raw', 'b.ms_data.hdf','c_HCDFT.mgf'\n",
    "])\n",
    "assert 'a' in d\n",
    "assert 'b' in d\n",
    "assert 'c' in d"
   ]
  }
 ],
 "metadata": {
  "kernelspec": {
   "display_name": "base",
   "language": "python",
   "name": "python3"
  }
 },
 "nbformat": 4,
 "nbformat_minor": 2
}
