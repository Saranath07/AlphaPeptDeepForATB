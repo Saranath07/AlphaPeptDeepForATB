{
 "cells": [
  {
   "cell_type": "markdown",
   "metadata": {},
   "source": [
    "# Testing GUI"
   ]
  },
  {
   "cell_type": "code",
   "execution_count": null,
   "metadata": {},
   "outputs": [],
   "source": [
    "# import os\n",
    "# __file__ = os.path.abspath('./test_ui.py')\n",
    "# import peptdeep.webui.library_ui\n",
    "# import peptdeep.webui.main_ui\n",
    "# import peptdeep.webui.model_ui\n",
    "# import peptdeep.webui.rescore_ui\n",
    "# import peptdeep.webui.startpage\n",
    "# import peptdeep.webui.transfer_ui\n",
    "# import peptdeep.webui.settings_ui\n",
    "# # import peptdeep.webui.server_ui\n",
    "\n",
    "# peptdeep.webui.library_ui.show()\n",
    "# peptdeep.webui.model_ui.show()\n",
    "# peptdeep.webui.rescore_ui.show()\n",
    "# peptdeep.webui.transfer_ui.show()\n",
    "# peptdeep.webui.settings_ui.show()\n",
    "# # peptdeep.webui.server_ui.show()"
   ]
  },
  {
   "cell_type": "code",
   "execution_count": null,
   "metadata": {},
   "outputs": [],
   "source": []
  }
 ],
 "metadata": {
  "kernelspec": {
   "display_name": "base",
   "language": "python",
   "name": "python3"
  }
 },
 "nbformat": 4,
 "nbformat_minor": 2
}
